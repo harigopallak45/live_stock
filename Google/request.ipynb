{
 "cells": [
  {
   "cell_type": "code",
   "execution_count": 1,
   "metadata": {},
   "outputs": [],
   "source": [
    "import requests\n",
    "import pandas as pd\n",
    "import json\n",
    "import matplotlib.pyplot as plt "
   ]
  },
  {
   "cell_type": "markdown",
   "metadata": {},
   "source": [
    "## Let say\n",
    "\n",
    "Let say, TWTR.csv is my realtime data (follow [realtime-evolution-strategy.ipynb](realtime-evolution-strategy.ipynb)), remember, we trained using `Close`, and `Volume` data.\n",
    "\n",
    "So every request means new daily data.\n",
    "\n",
    "You can improve the code to bind historical data with your own database or any websocket streaming data. Imagination is your limit now."
   ]
  },
  {
   "cell_type": "code",
   "execution_count": 2,
   "metadata": {},
   "outputs": [
    {
     "data": {
      "text/html": [
       "<div>\n",
       "<style scoped>\n",
       "    .dataframe tbody tr th:only-of-type {\n",
       "        vertical-align: middle;\n",
       "    }\n",
       "\n",
       "    .dataframe tbody tr th {\n",
       "        vertical-align: top;\n",
       "    }\n",
       "\n",
       "    .dataframe thead th {\n",
       "        text-align: right;\n",
       "    }\n",
       "</style>\n",
       "<table border=\"1\" class=\"dataframe\">\n",
       "  <thead>\n",
       "    <tr style=\"text-align: right;\">\n",
       "      <th></th>\n",
       "      <th>Date</th>\n",
       "      <th>Open</th>\n",
       "      <th>High</th>\n",
       "      <th>Low</th>\n",
       "      <th>Close</th>\n",
       "      <th>Adj Close</th>\n",
       "      <th>Volume</th>\n",
       "    </tr>\n",
       "  </thead>\n",
       "  <tbody>\n",
       "    <tr>\n",
       "      <th>0</th>\n",
       "      <td>2004-08-19</td>\n",
       "      <td>50.050049</td>\n",
       "      <td>52.082081</td>\n",
       "      <td>48.028027</td>\n",
       "      <td>50.220219</td>\n",
       "      <td>50.220219</td>\n",
       "      <td>44659096</td>\n",
       "    </tr>\n",
       "    <tr>\n",
       "      <th>1</th>\n",
       "      <td>2004-08-20</td>\n",
       "      <td>50.555557</td>\n",
       "      <td>54.594597</td>\n",
       "      <td>50.300301</td>\n",
       "      <td>54.209209</td>\n",
       "      <td>54.209209</td>\n",
       "      <td>22834343</td>\n",
       "    </tr>\n",
       "    <tr>\n",
       "      <th>2</th>\n",
       "      <td>2004-08-23</td>\n",
       "      <td>55.430431</td>\n",
       "      <td>56.796799</td>\n",
       "      <td>54.579578</td>\n",
       "      <td>54.754753</td>\n",
       "      <td>54.754753</td>\n",
       "      <td>18256126</td>\n",
       "    </tr>\n",
       "    <tr>\n",
       "      <th>3</th>\n",
       "      <td>2004-08-24</td>\n",
       "      <td>55.675674</td>\n",
       "      <td>55.855858</td>\n",
       "      <td>51.836838</td>\n",
       "      <td>52.487488</td>\n",
       "      <td>52.487488</td>\n",
       "      <td>15247337</td>\n",
       "    </tr>\n",
       "    <tr>\n",
       "      <th>4</th>\n",
       "      <td>2004-08-25</td>\n",
       "      <td>52.532532</td>\n",
       "      <td>54.054054</td>\n",
       "      <td>51.991993</td>\n",
       "      <td>53.053055</td>\n",
       "      <td>53.053055</td>\n",
       "      <td>9188602</td>\n",
       "    </tr>\n",
       "  </tbody>\n",
       "</table>\n",
       "</div>"
      ],
      "text/plain": [
       "         Date       Open       High        Low      Close  Adj Close    Volume\n",
       "0  2004-08-19  50.050049  52.082081  48.028027  50.220219  50.220219  44659096\n",
       "1  2004-08-20  50.555557  54.594597  50.300301  54.209209  54.209209  22834343\n",
       "2  2004-08-23  55.430431  56.796799  54.579578  54.754753  54.754753  18256126\n",
       "3  2004-08-24  55.675674  55.855858  51.836838  52.487488  52.487488  15247337\n",
       "4  2004-08-25  52.532532  54.054054  51.991993  53.053055  53.053055   9188602"
      ]
     },
     "execution_count": 2,
     "metadata": {},
     "output_type": "execute_result"
    }
   ],
   "source": [
    "df = pd.read_csv('GOOGL.csv')\n",
    "df.head()"
   ]
  },
  {
   "cell_type": "code",
   "execution_count": 3,
   "metadata": {},
   "outputs": [],
   "source": [
    "# Load data\n",
    "df = pd.read_csv('GOOGL.csv')\n",
    "close = df['Close'].tolist()\n",
    "volume = df['Volume'].tolist()\n"
   ]
  },
  {
   "cell_type": "markdown",
   "metadata": {},
   "source": [
    "## Check balance"
   ]
  },
  {
   "cell_type": "code",
   "execution_count": 4,
   "metadata": {},
   "outputs": [
    {
     "data": {
      "text/plain": [
       "5993.54004"
      ]
     },
     "execution_count": 4,
     "metadata": {},
     "output_type": "execute_result"
    }
   ],
   "source": [
    "requests.get('http://localhost:8005/balance').json()"
   ]
  },
  {
   "cell_type": "markdown",
   "metadata": {},
   "source": [
    "This is the initial capital we have for now, you can check [agent.ipynb](https://github.com/huseinzol05/Stock-Prediction-Models/blob/master/realtime-agent/agent.ipynb) how I defined it, or you can overwrite it."
   ]
  },
  {
   "cell_type": "markdown",
   "metadata": {},
   "source": [
    "## Trading"
   ]
  },
  {
   "cell_type": "code",
   "execution_count": 5,
   "metadata": {},
   "outputs": [
    {
     "data": {
      "text/plain": [
       "'[50.220219, 44659096]'"
      ]
     },
     "execution_count": 5,
     "metadata": {},
     "output_type": "execute_result"
    }
   ],
   "source": [
    "import json\n",
    "\n",
    "data = json.dumps([close[0], volume[0]])\n",
    "data"
   ]
  },
  {
   "cell_type": "markdown",
   "metadata": {},
   "source": [
    "Remember, my last training session was only used `Close` and `Volume`, you need to edit it to accept any kind of parameters."
   ]
  },
  {
   "cell_type": "code",
   "execution_count": 6,
   "metadata": {},
   "outputs": [
    {
     "data": {
      "text/plain": [
       "{'action': 'fail',\n",
       " 'balance': 5993.54004,\n",
       " 'status': 'data not enough to trade',\n",
       " 'timestamp': '2024-08-31 19:07:24.234091'}"
      ]
     },
     "execution_count": 6,
     "metadata": {},
     "output_type": "execute_result"
    }
   ],
   "source": [
    "requests.get('http://localhost:8005/trade?data='+data).json()"
   ]
  },
  {
   "cell_type": "markdown",
   "metadata": {},
   "source": [
    "Reason why you got 'data not enough to trade', because, the agent waiting another data to complete the queue, atleast same as `window_size` size.\n",
    "\n",
    "Last time I defined `window_size` is 20, means, it only look back 20 historical data to trade."
   ]
  },
  {
   "cell_type": "markdown",
   "metadata": {},
   "source": [
    "Assume now, you have 100 times new datapoints going in, you want to trade these datapoints."
   ]
  },
  {
   "cell_type": "code",
   "execution_count": 7,
   "metadata": {},
   "outputs": [
    {
     "name": "stdout",
     "output_type": "stream",
     "text": [
      "{'action': 'fail', 'balance': 5993.54004, 'status': 'data not enough to trade', 'timestamp': '2024-08-31 19:07:26.316700'}\n",
      "{'action': 'fail', 'balance': 5993.54004, 'status': 'data not enough to trade', 'timestamp': '2024-08-31 19:07:28.362912'}\n",
      "{'action': 'fail', 'balance': 5993.54004, 'status': 'data not enough to trade', 'timestamp': '2024-08-31 19:07:30.399595'}\n",
      "{'action': 'fail', 'balance': 5993.54004, 'status': 'data not enough to trade', 'timestamp': '2024-08-31 19:07:32.435874'}\n",
      "{'action': 'fail', 'balance': 5993.54004, 'status': 'data not enough to trade', 'timestamp': '2024-08-31 19:07:34.477018'}\n",
      "{'action': 'fail', 'balance': 5993.54004, 'status': 'data not enough to trade', 'timestamp': '2024-08-31 19:07:36.531338'}\n",
      "{'action': 'fail', 'balance': 5993.54004, 'status': 'data not enough to trade', 'timestamp': '2024-08-31 19:07:38.560555'}\n",
      "{'action': 'fail', 'balance': 5993.54004, 'status': 'data not enough to trade', 'timestamp': '2024-08-31 19:07:40.598772'}\n",
      "{'action': 'fail', 'balance': 5993.54004, 'status': 'data not enough to trade', 'timestamp': '2024-08-31 19:07:42.618091'}\n",
      "{'action': 'fail', 'balance': 5993.54004, 'status': 'data not enough to trade', 'timestamp': '2024-08-31 19:07:44.653242'}\n",
      "{'action': 'fail', 'balance': 5993.54004, 'status': 'data not enough to trade', 'timestamp': '2024-08-31 19:07:46.696433'}\n",
      "{'action': 'fail', 'balance': 5993.54004, 'status': 'data not enough to trade', 'timestamp': '2024-08-31 19:07:48.726375'}\n",
      "{'action': 'fail', 'balance': 5993.54004, 'status': 'data not enough to trade', 'timestamp': '2024-08-31 19:07:50.759693'}\n",
      "{'action': 'fail', 'balance': 5993.54004, 'status': 'data not enough to trade', 'timestamp': '2024-08-31 19:07:52.807682'}\n",
      "{'action': 'fail', 'balance': 5993.54004, 'status': 'data not enough to trade', 'timestamp': '2024-08-31 19:07:54.849519'}\n",
      "{'action': 'fail', 'balance': 5993.54004, 'status': 'data not enough to trade', 'timestamp': '2024-08-31 19:07:56.902149'}\n",
      "{'action': 'fail', 'balance': 5993.54004, 'status': 'data not enough to trade', 'timestamp': '2024-08-31 19:07:58.926572'}\n",
      "{'action': 'fail', 'balance': 5993.54004, 'status': 'data not enough to trade', 'timestamp': '2024-08-31 19:08:00.978522'}\n",
      "{'action': 'nothing', 'balance': 5993.54004, 'status': 'do nothing', 'timestamp': '2024-08-31 19:08:03.023946'}\n",
      "{'action': 'nothing', 'balance': 5993.54004, 'status': 'do nothing', 'timestamp': '2024-08-31 19:08:05.068733'}\n",
      "{'action': 'nothing', 'balance': 5993.54004, 'status': 'do nothing', 'timestamp': '2024-08-31 19:08:07.119209'}\n",
      "{'action': 'nothing', 'balance': 5993.54004, 'status': 'do nothing', 'timestamp': '2024-08-31 19:08:09.172951'}\n",
      "{'action': 'nothing', 'balance': 5993.54004, 'status': 'do nothing', 'timestamp': '2024-08-31 19:08:11.216926'}\n",
      "{'action': 'nothing', 'balance': 5993.54004, 'status': 'do nothing', 'timestamp': '2024-08-31 19:08:13.237242'}\n",
      "{'action': 'nothing', 'balance': 5993.54004, 'status': 'do nothing', 'timestamp': '2024-08-31 19:08:15.267173'}\n",
      "{'action': 'nothing', 'balance': 5993.54004, 'status': 'do nothing', 'timestamp': '2024-08-31 19:08:17.310547'}\n",
      "{'action': 'nothing', 'balance': 5993.54004, 'status': 'do nothing', 'timestamp': '2024-08-31 19:08:19.349497'}\n",
      "{'action': 'nothing', 'balance': 5993.54004, 'status': 'do nothing', 'timestamp': '2024-08-31 19:08:21.385419'}\n",
      "{'action': 'nothing', 'balance': 5993.54004, 'status': 'do nothing', 'timestamp': '2024-08-31 19:08:23.410947'}\n",
      "{'action': 'nothing', 'balance': 5993.54004, 'status': 'do nothing', 'timestamp': '2024-08-31 19:08:25.443313'}\n",
      "{'action': 'buy', 'balance': 5927.183686, 'status': 'buy 1 unit, cost 66.356354', 'timestamp': '2024-08-31 19:08:27.470763'}\n",
      "{'action': 'sell', 'balance': 5994.7812810000005, 'gain': 1.2412409999998175, 'investment': 1.8705684161004599, 'status': 'sell 1 unit, price 67.597595', 'timestamp': '2024-08-31 19:08:29.498588'}\n",
      "{'action': 'nothing', 'balance': 5994.7812810000005, 'status': 'do nothing', 'timestamp': '2024-08-31 19:08:31.526477'}\n",
      "{'action': 'sell', 'balance': 6012.989893000001, 'gain': 18.20861199999984, 'investment': 36.128198412697984, 'status': 'sell 1 unit, price 68.608612', 'timestamp': '2024-08-31 19:08:33.551715'}\n",
      "{'action': 'sell', 'balance': 6031.984385000001, 'gain': 18.994491999999788, 'investment': 37.61285544554398, 'status': 'sell 1 unit, price 69.494492', 'timestamp': '2024-08-31 19:08:35.626072'}\n",
      "{'action': 'nothing', 'balance': 6031.984385000001, 'status': 'do nothing', 'timestamp': '2024-08-31 19:08:37.670365'}\n",
      "{'action': 'nothing', 'balance': 6031.984385000001, 'status': 'do nothing', 'timestamp': '2024-08-31 19:08:39.706504'}\n",
      "{'action': 'nothing', 'balance': 6031.984385000001, 'status': 'do nothing', 'timestamp': '2024-08-31 19:08:41.756384'}\n",
      "{'action': 'buy', 'balance': 5961.4638620000005, 'status': 'buy 1 unit, cost 70.520523', 'timestamp': '2024-08-31 19:08:43.802228'}\n",
      "{'action': 'nothing', 'balance': 6012.263862000001, 'status': 'do nothing', 'timestamp': '2024-08-31 19:08:45.841813'}\n",
      "{'action': 'nothing', 'balance': 6012.263862000001, 'status': 'do nothing', 'timestamp': '2024-08-31 19:08:47.914687'}\n",
      "{'action': 'nothing', 'balance': 6012.263862000001, 'status': 'do nothing', 'timestamp': '2024-08-31 19:08:49.972461'}\n",
      "{'action': 'nothing', 'balance': 6012.263862000001, 'status': 'do nothing', 'timestamp': '2024-08-31 19:08:52.014914'}\n",
      "{'action': 'nothing', 'balance': 6012.263862000001, 'status': 'do nothing', 'timestamp': '2024-08-31 19:08:54.088001'}\n",
      "{'action': 'nothing', 'balance': 6012.263862000001, 'status': 'do nothing', 'timestamp': '2024-08-31 19:08:56.145831'}\n",
      "{'action': 'nothing', 'balance': 6012.263862000001, 'status': 'do nothing', 'timestamp': '2024-08-31 19:08:58.205510'}\n",
      "{'action': 'nothing', 'balance': 6012.263862000001, 'status': 'do nothing', 'timestamp': '2024-08-31 19:09:00.258380'}\n",
      "{'action': 'nothing', 'balance': 6012.263862000001, 'status': 'do nothing', 'timestamp': '2024-08-31 19:09:02.316135'}\n",
      "{'action': 'nothing', 'balance': 6012.263862000001, 'status': 'do nothing', 'timestamp': '2024-08-31 19:09:04.370196'}\n",
      "{'action': 'nothing', 'balance': 6012.263862000001, 'status': 'do nothing', 'timestamp': '2024-08-31 19:09:06.407560'}\n",
      "{'action': 'nothing', 'balance': 6012.263862000001, 'status': 'do nothing', 'timestamp': '2024-08-31 19:09:08.473696'}\n",
      "{'action': 'sell', 'balance': 6058.776975000001, 'gain': 46.5131130000001, 'investment': 90.14169186046547, 'status': 'sell 1 unit, price 98.113113', 'timestamp': '2024-08-31 19:09:10.545147'}\n",
      "{'action': 'sell', 'balance': 6104.609507000001, 'gain': 45.83253200000006, 'investment': 88.65093230174101, 'status': 'sell 1 unit, price 97.532532', 'timestamp': '2024-08-31 19:09:12.592539'}\n",
      "{'action': 'nothing', 'balance': 6104.609507000001, 'status': 'do nothing', 'timestamp': '2024-08-31 19:09:14.655652'}\n",
      "{'action': 'buy', 'balance': 5960.367063000001, 'status': 'buy 1 unit, cost 92.442444', 'timestamp': '2024-08-31 19:09:16.732817'}\n",
      "{'action': 'sell', 'balance': 6045.126821000001, 'gain': 32.95975800000001, 'investment': 63.62887644787647, 'status': 'sell 1 unit, price 84.759758', 'timestamp': '2024-08-31 19:09:18.799989'}\n",
      "{'action': 'buy', 'balance': 5958.765462000001, 'status': 'buy 1 unit, cost 86.361359', 'timestamp': '2024-08-31 19:09:20.879852'}\n",
      "{'action': 'sell', 'balance': 6095.199895000002, 'gain': -1.9269259999999235, 'investment': -2.231236310211289, 'status': 'sell 1 unit, price 84.434433', 'timestamp': '2024-08-31 19:09:22.940439'}\n",
      "{'action': 'nothing', 'balance': 6095.199895000002, 'status': 'do nothing', 'timestamp': '2024-08-31 19:09:25.001483'}\n",
      "{'action': 'buy', 'balance': 6003.598294000001, 'status': 'buy 1 unit, cost 91.601601', 'timestamp': '2024-08-31 19:09:27.048712'}\n",
      "{'action': 'nothing', 'balance': 6055.798294000001, 'status': 'do nothing', 'timestamp': '2024-08-31 19:09:29.110618'}\n",
      "{'action': 'nothing', 'balance': 6055.798294000001, 'status': 'do nothing', 'timestamp': '2024-08-31 19:09:31.148189'}\n",
      "{'action': 'nothing', 'balance': 6055.798294000001, 'status': 'do nothing', 'timestamp': '2024-08-31 19:09:33.207601'}\n",
      "{'action': 'nothing', 'balance': 6055.798294000001, 'status': 'do nothing', 'timestamp': '2024-08-31 19:09:35.269277'}\n",
      "{'action': 'nothing', 'balance': 6055.798294000001, 'status': 'do nothing', 'timestamp': '2024-08-31 19:09:37.339760'}\n",
      "{'action': 'nothing', 'balance': 6055.798294000001, 'status': 'do nothing', 'timestamp': '2024-08-31 19:09:39.383284'}\n",
      "{'action': 'nothing', 'balance': 6055.798294000001, 'status': 'do nothing', 'timestamp': '2024-08-31 19:09:41.441683'}\n",
      "{'action': 'nothing', 'balance': 6055.798294000001, 'status': 'do nothing', 'timestamp': '2024-08-31 19:09:43.482344'}\n",
      "{'action': 'nothing', 'balance': 6055.798294000001, 'status': 'do nothing', 'timestamp': '2024-08-31 19:09:45.534415'}\n",
      "{'action': 'sell', 'balance': 6092.783076000001, 'gain': 36.984781999999946, 'investment': 70.04693560606043, 'status': 'sell 1 unit, price 89.784782', 'timestamp': '2024-08-31 19:09:47.566332'}\n",
      "{'action': 'sell', 'balance': 6130.498692000001, 'gain': 37.71561599999989, 'investment': 71.29606049149302, 'status': 'sell 1 unit, price 90.615616', 'timestamp': '2024-08-31 19:09:49.623395'}\n",
      "{'action': 'buy', 'balance': 6039.417614000001, 'status': 'buy 1 unit, cost 91.081078', 'timestamp': '2024-08-31 19:09:51.671611'}\n",
      "{'action': 'nothing', 'balance': 6092.417614000001, 'status': 'do nothing', 'timestamp': '2024-08-31 19:09:53.738007'}\n",
      "{'action': 'nothing', 'balance': 6092.417614000001, 'status': 'do nothing', 'timestamp': '2024-08-31 19:09:55.806647'}\n",
      "{'action': 'buy', 'balance': 6002.127323000001, 'status': 'buy 1 unit, cost 90.290291', 'timestamp': '2024-08-31 19:09:57.863075'}\n",
      "{'action': 'nothing', 'balance': 6055.327323, 'status': 'do nothing', 'timestamp': '2024-08-31 19:09:59.930378'}\n",
      "{'action': 'nothing', 'balance': 6055.327323, 'status': 'do nothing', 'timestamp': '2024-08-31 19:10:01.979469'}\n",
      "{'action': 'sell', 'balance': 6087.002396000001, 'gain': 31.67507300000007, 'investment': 59.31661610486911, 'status': 'sell 1 unit, price 85.075073', 'timestamp': '2024-08-31 19:10:04.039609'}\n",
      "{'action': 'nothing', 'balance': 6087.002396000001, 'status': 'do nothing', 'timestamp': '2024-08-31 19:10:06.110134'}\n",
      "{'action': 'nothing', 'balance': 6087.002396000001, 'status': 'do nothing', 'timestamp': '2024-08-31 19:10:08.170696'}\n",
      "{'action': 'nothing', 'balance': 6087.002396000001, 'status': 'do nothing', 'timestamp': '2024-08-31 19:10:10.239528'}\n",
      "{'action': 'nothing', 'balance': 6087.002396000001, 'status': 'do nothing', 'timestamp': '2024-08-31 19:10:12.303124'}\n",
      "{'action': 'nothing', 'balance': 6087.002396000001, 'status': 'do nothing', 'timestamp': '2024-08-31 19:10:14.349506'}\n",
      "{'action': 'nothing', 'balance': 6087.002396000001, 'status': 'do nothing', 'timestamp': '2024-08-31 19:10:16.409503'}\n",
      "{'action': 'nothing', 'balance': 6087.002396000001, 'status': 'do nothing', 'timestamp': '2024-08-31 19:10:18.479170'}\n",
      "{'action': 'nothing', 'balance': 6087.002396000001, 'status': 'do nothing', 'timestamp': '2024-08-31 19:10:20.520526'}\n",
      "{'action': 'nothing', 'balance': 6087.002396000001, 'status': 'do nothing', 'timestamp': '2024-08-31 19:10:22.567159'}\n",
      "{'action': 'nothing', 'balance': 6087.002396000001, 'status': 'do nothing', 'timestamp': '2024-08-31 19:10:24.610646'}\n",
      "{'action': 'sell', 'balance': 6126.946440000001, 'gain': 39.94404400000014, 'investment': 73.83372273567512, 'status': 'sell 1 unit, price 94.044044', 'timestamp': '2024-08-31 19:10:26.662009'}\n",
      "{'action': 'sell', 'balance': 6168.797488000001, 'gain': 41.85104800000009, 'investment': 77.2159557195575, 'status': 'sell 1 unit, price 96.051048', 'timestamp': '2024-08-31 19:10:28.708260'}\n",
      "{'action': 'nothing', 'balance': 6168.797488000001, 'status': 'do nothing', 'timestamp': '2024-08-31 19:10:30.778119'}\n",
      "{'action': 'sell', 'balance': 6211.044035000001, 'gain': 42.24654700000005, 'investment': 77.80211233885835, 'status': 'sell 1 unit, price 96.546547', 'timestamp': '2024-08-31 19:10:32.822406'}\n",
      "{'action': 'sell', 'balance': 6255.542930000001, 'gain': 44.49889499999999, 'investment': 81.79943933823527, 'status': 'sell 1 unit, price 98.898895', 'timestamp': '2024-08-31 19:10:34.888927'}\n",
      "{'action': 'buy', 'balance': 6159.051437000001, 'status': 'buy 1 unit, cost 96.491493', 'timestamp': '2024-08-31 19:10:36.953070'}\n",
      "{'action': 'buy', 'balance': 6112.094978000001, 'status': 'buy 1 unit, cost 101.456459', 'timestamp': '2024-08-31 19:10:39.005903'}\n",
      "{'action': 'sell', 'balance': 6209.442321000001, 'gain': -4.109116, 'investment': -4.0501275527465435, 'status': 'sell 1 unit, price 97.347343', 'timestamp': '2024-08-31 19:10:41.040265'}\n",
      "{'action': 'nothing', 'balance': 6209.442321000001, 'status': 'do nothing', 'timestamp': '2024-08-31 19:10:43.107026'}\n",
      "{'action': 'nothing', 'balance': 6209.442321000001, 'status': 'do nothing', 'timestamp': '2024-08-31 19:10:45.164693'}\n",
      "{'action': 'nothing', 'balance': 6209.442321000001, 'status': 'do nothing', 'timestamp': '2024-08-31 19:10:47.228061'}\n",
      "{'action': 'nothing', 'balance': 6209.442321000001, 'status': 'do nothing', 'timestamp': '2024-08-31 19:10:49.276033'}\n",
      "{'action': 'sell', 'balance': 6251.409188000001, 'gain': 41.96686700000017, 'investment': 76.44238069216813, 'status': 'sell 1 unit, price 96.866867', 'timestamp': '2024-08-31 19:10:51.304826'}\n",
      "{'action': 'nothing', 'balance': 6251.409188000001, 'status': 'do nothing', 'timestamp': '2024-08-31 19:10:53.353470'}\n",
      "{'action': 'nothing', 'balance': 6251.409188000001, 'status': 'do nothing', 'timestamp': '2024-08-31 19:10:55.393123'}\n",
      "{'action': 'sell', 'balance': 6296.394271000001, 'gain': 44.985083000000074, 'investment': 81.64261887477339, 'status': 'sell 1 unit, price 100.085083', 'timestamp': '2024-08-31 19:10:57.454114'}\n",
      "{'action': 'nothing', 'balance': 6296.394271000001, 'status': 'do nothing', 'timestamp': '2024-08-31 19:10:59.488244'}\n",
      "{'action': 'nothing', 'balance': 6296.394271000001, 'status': 'do nothing', 'timestamp': '2024-08-31 19:11:01.546421'}\n",
      "{'action': 'nothing', 'balance': 6296.394271000001, 'status': 'do nothing', 'timestamp': '2024-08-31 19:11:03.587328'}\n",
      "{'action': 'nothing', 'balance': 6296.394271000001, 'status': 'do nothing', 'timestamp': '2024-08-31 19:11:05.639839'}\n",
      "{'action': 'buy', 'balance': 6205.943824000001, 'status': 'buy 1 unit, cost 90.450447', 'timestamp': '2024-08-31 19:11:07.695904'}\n",
      "{'action': 'nothing', 'balance': 6261.443824000001, 'status': 'do nothing', 'timestamp': '2024-08-31 19:11:09.736936'}\n",
      "{'action': 'nothing', 'balance': 6261.443824000001, 'status': 'do nothing', 'timestamp': '2024-08-31 19:11:11.780422'}\n",
      "{'action': 'nothing', 'balance': 6261.443824000001, 'status': 'do nothing', 'timestamp': '2024-08-31 19:11:13.824101'}\n",
      "{'action': 'nothing', 'balance': 6261.443824000001, 'status': 'do nothing', 'timestamp': '2024-08-31 19:11:15.885099'}\n",
      "{'action': 'nothing', 'balance': 6261.443824000001, 'status': 'do nothing', 'timestamp': '2024-08-31 19:11:17.931104'}\n",
      "{'action': 'nothing', 'balance': 6261.443824000001, 'status': 'do nothing', 'timestamp': '2024-08-31 19:11:20.003334'}\n",
      "{'action': 'nothing', 'balance': 6261.443824000001, 'status': 'do nothing', 'timestamp': '2024-08-31 19:11:22.074079'}\n",
      "{'action': 'nothing', 'balance': 6261.443824000001, 'status': 'do nothing', 'timestamp': '2024-08-31 19:11:24.145627'}\n",
      "{'action': 'nothing', 'balance': 6261.443824000001, 'status': 'do nothing', 'timestamp': '2024-08-31 19:11:26.221249'}\n",
      "{'action': 'nothing', 'balance': 6261.443824000001, 'status': 'do nothing', 'timestamp': '2024-08-31 19:11:28.282100'}\n",
      "{'action': 'nothing', 'balance': 6261.443824000001, 'status': 'do nothing', 'timestamp': '2024-08-31 19:11:30.331635'}\n",
      "{'action': 'nothing', 'balance': 6261.443824000001, 'status': 'do nothing', 'timestamp': '2024-08-31 19:11:32.375825'}\n",
      "{'action': 'sell', 'balance': 6299.227908000001, 'gain': 37.784083999999915, 'investment': 67.1120497335699, 'status': 'sell 1 unit, price 94.084084', 'timestamp': '2024-08-31 19:11:34.423360'}\n",
      "{'action': 'nothing', 'balance': 6299.227908000001, 'status': 'do nothing', 'timestamp': '2024-08-31 19:11:36.472673'}\n",
      "{'action': 'buy', 'balance': 6202.636317, 'status': 'buy 1 unit, cost 96.591591', 'timestamp': '2024-08-31 19:11:38.529958'}\n",
      "{'action': 'sell', 'balance': 6300.349032, 'gain': 1.1211240000000515, 'investment': 1.1606848881907867, 'status': 'sell 1 unit, price 97.712715', 'timestamp': '2024-08-31 19:11:40.580312'}\n",
      "{'action': 'nothing', 'balance': 6300.349032, 'status': 'do nothing', 'timestamp': '2024-08-31 19:11:42.639477'}\n",
      "{'action': 'nothing', 'balance': 6300.349032, 'status': 'do nothing', 'timestamp': '2024-08-31 19:11:44.704513'}\n",
      "{'action': 'nothing', 'balance': 6300.349032, 'status': 'do nothing', 'timestamp': '2024-08-31 19:11:46.766011'}\n",
      "{'action': 'nothing', 'balance': 6300.349032, 'status': 'do nothing', 'timestamp': '2024-08-31 19:11:48.820135'}\n",
      "{'action': 'nothing', 'balance': 6300.349032, 'status': 'do nothing', 'timestamp': '2024-08-31 19:11:50.883556'}\n",
      "{'action': 'sell', 'balance': 6337.988575, 'gain': 37.63954300000004, 'investment': 66.15033919156427, 'status': 'sell 1 unit, price 94.539543', 'timestamp': '2024-08-31 19:11:52.947785'}\n",
      "{'action': 'nothing', 'balance': 6337.988575, 'status': 'do nothing', 'timestamp': '2024-08-31 19:11:55.005290'}\n",
      "{'action': 'buy', 'balance': 6243.899487000001, 'status': 'buy 1 unit, cost 94.089088', 'timestamp': '2024-08-31 19:11:57.063127'}\n",
      "{'action': 'nothing', 'balance': 6300.999487000001, 'status': 'do nothing', 'timestamp': '2024-08-31 19:11:59.122529'}\n",
      "{'action': 'sell', 'balance': 6336.482173000001, 'gain': 35.4826859999999, 'investment': 62.032667832167554, 'status': 'sell 1 unit, price 92.682686', 'timestamp': '2024-08-31 19:12:01.186480'}\n",
      "{'action': 'nothing', 'balance': 6336.482173000001, 'status': 'do nothing', 'timestamp': '2024-08-31 19:12:03.234672'}\n",
      "{'action': 'nothing', 'balance': 6336.482173000001, 'status': 'do nothing', 'timestamp': '2024-08-31 19:12:05.300211'}\n",
      "{'action': 'nothing', 'balance': 6336.482173000001, 'status': 'do nothing', 'timestamp': '2024-08-31 19:12:07.350913'}\n",
      "{'action': 'buy', 'balance': 6243.789477000001, 'status': 'buy 1 unit, cost 92.692696', 'timestamp': '2024-08-31 19:12:09.405360'}\n",
      "{'action': 'buy', 'balance': 6210.523715000001, 'status': 'buy 1 unit, cost 90.765762', 'timestamp': '2024-08-31 19:12:11.454869'}\n",
      "{'action': 'nothing', 'balance': 6210.523715000001, 'status': 'do nothing', 'timestamp': '2024-08-31 19:12:13.480243'}\n",
      "{'action': 'buy', 'balance': 6179.134724000001, 'status': 'buy 1 unit, cost 88.988991', 'timestamp': '2024-08-31 19:12:16.896898'}\n",
      "{'action': 'nothing', 'balance': 6236.834724000001, 'status': 'do nothing', 'timestamp': '2024-08-31 19:12:18.955245'}\n",
      "{'action': 'nothing', 'balance': 6236.834724000001, 'status': 'do nothing', 'timestamp': '2024-08-31 19:12:21.012110'}\n",
      "{'action': 'nothing', 'balance': 6236.834724000001, 'status': 'do nothing', 'timestamp': '2024-08-31 19:12:23.087795'}\n",
      "{'action': 'nothing', 'balance': 6236.834724000001, 'status': 'do nothing', 'timestamp': '2024-08-31 19:12:25.116789'}\n",
      "{'action': 'nothing', 'balance': 6236.834724000001, 'status': 'do nothing', 'timestamp': '2024-08-31 19:12:27.174764'}\n",
      "{'action': 'buy', 'balance': 6146.304191000001, 'status': 'buy 1 unit, cost 90.530533', 'timestamp': '2024-08-31 19:12:29.219173'}\n",
      "{'action': 'sell', 'balance': 6235.693580000001, 'gain': -1.1411440000001818, 'investment': -1.2605073251917998, 'status': 'sell 1 unit, price 89.389389', 'timestamp': '2024-08-31 19:12:31.415606'}\n",
      "{'action': 'sell', 'balance': 6267.0731620000015, 'gain': 31.37958199999983, 'investment': 53.916807560137, 'status': 'sell 1 unit, price 89.579582', 'timestamp': '2024-08-31 19:12:33.442289'}\n",
      "{'action': 'nothing', 'balance': 6267.0731620000015, 'status': 'do nothing', 'timestamp': '2024-08-31 19:12:35.526112'}\n",
      "{'action': 'nothing', 'balance': 6267.0731620000015, 'status': 'do nothing', 'timestamp': '2024-08-31 19:12:37.554533'}\n",
      "{'action': 'nothing', 'balance': 6267.0731620000015, 'status': 'do nothing', 'timestamp': '2024-08-31 19:12:39.613413'}\n",
      "{'action': 'nothing', 'balance': 6267.0731620000015, 'status': 'do nothing', 'timestamp': '2024-08-31 19:12:41.669235'}\n",
      "{'action': 'nothing', 'balance': 6267.0731620000015, 'status': 'do nothing', 'timestamp': '2024-08-31 19:12:43.704638'}\n",
      "{'action': 'nothing', 'balance': 6267.0731620000015, 'status': 'do nothing', 'timestamp': '2024-08-31 19:12:45.750638'}\n",
      "{'action': 'nothing', 'balance': 6267.0731620000015, 'status': 'do nothing', 'timestamp': '2024-08-31 19:12:47.794115'}\n",
      "{'action': 'nothing', 'balance': 6267.0731620000015, 'status': 'do nothing', 'timestamp': '2024-08-31 19:12:49.841859'}\n",
      "{'action': 'nothing', 'balance': 6267.0731620000015, 'status': 'do nothing', 'timestamp': '2024-08-31 19:12:51.893740'}\n",
      "{'action': 'nothing', 'balance': 6267.0731620000015, 'status': 'do nothing', 'timestamp': '2024-08-31 19:12:53.952237'}\n",
      "{'action': 'nothing', 'balance': 6267.0731620000015, 'status': 'do nothing', 'timestamp': '2024-08-31 19:12:56.008650'}\n",
      "{'action': 'nothing', 'balance': 6267.0731620000015, 'status': 'do nothing', 'timestamp': '2024-08-31 19:12:58.059414'}\n",
      "{'action': 'nothing', 'balance': 6267.0731620000015, 'status': 'do nothing', 'timestamp': '2024-08-31 19:13:00.117276'}\n",
      "{'action': 'nothing', 'balance': 6267.0731620000015, 'status': 'do nothing', 'timestamp': '2024-08-31 19:13:02.188082'}\n",
      "{'action': 'nothing', 'balance': 6267.0731620000015, 'status': 'do nothing', 'timestamp': '2024-08-31 19:13:04.258862'}\n",
      "{'action': 'nothing', 'balance': 6267.0731620000015, 'status': 'do nothing', 'timestamp': '2024-08-31 19:13:06.317124'}\n",
      "{'action': 'nothing', 'balance': 6267.0731620000015, 'status': 'do nothing', 'timestamp': '2024-08-31 19:13:08.362267'}\n",
      "{'action': 'nothing', 'balance': 6267.0731620000015, 'status': 'do nothing', 'timestamp': '2024-08-31 19:13:10.423568'}\n",
      "{'action': 'nothing', 'balance': 6267.0731620000015, 'status': 'do nothing', 'timestamp': '2024-08-31 19:13:12.495121'}\n",
      "{'action': 'nothing', 'balance': 6267.0731620000015, 'status': 'do nothing', 'timestamp': '2024-08-31 19:13:14.547392'}\n",
      "{'action': 'nothing', 'balance': 6267.0731620000015, 'status': 'do nothing', 'timestamp': '2024-08-31 19:13:16.601249'}\n",
      "{'action': 'nothing', 'balance': 6267.0731620000015, 'status': 'do nothing', 'timestamp': '2024-08-31 19:13:18.659382'}\n",
      "{'action': 'nothing', 'balance': 6267.0731620000015, 'status': 'do nothing', 'timestamp': '2024-08-31 19:13:20.702955'}\n",
      "{'action': 'nothing', 'balance': 6267.0731620000015, 'status': 'do nothing', 'timestamp': '2024-08-31 19:13:22.758141'}\n",
      "{'action': 'nothing', 'balance': 6267.0731620000015, 'status': 'do nothing', 'timestamp': '2024-08-31 19:13:24.810062'}\n",
      "{'action': 'sell', 'balance': 6317.283269000002, 'gain': 50.210106999999844, 'investment': 83.82321702838016, 'status': 'sell 1 unit, price 110.110107', 'timestamp': '2024-08-31 19:13:26.857147'}\n",
      "{'action': 'sell', 'balance': 6368.539525000002, 'gain': 51.25625599999979, 'investment': 85.42709333333268, 'status': 'sell 1 unit, price 111.256256', 'timestamp': '2024-08-31 19:13:28.925217'}\n",
      "{'action': 'nothing', 'balance': 6368.539525000002, 'status': 'do nothing', 'timestamp': '2024-08-31 19:13:30.993170'}\n",
      "{'action': 'sell', 'balance': 6422.803890000002, 'gain': 54.26436500000017, 'investment': 90.29012479201384, 'status': 'sell 1 unit, price 114.364365', 'timestamp': '2024-08-31 19:13:33.046841'}\n",
      "{'action': 'nothing', 'balance': 6422.803890000002, 'status': 'do nothing', 'timestamp': '2024-08-31 19:13:35.105724'}\n",
      "{'action': 'sell', 'balance': 6476.628013000001, 'gain': 53.824123000000064, 'investment': 89.26056882255409, 'status': 'sell 1 unit, price 114.124123', 'timestamp': '2024-08-31 19:13:37.163918'}\n",
      "{'action': 'nothing', 'balance': 6476.628013000001, 'status': 'do nothing', 'timestamp': '2024-08-31 19:13:39.213407'}\n",
      "{'action': 'nothing', 'balance': 6476.628013000001, 'status': 'do nothing', 'timestamp': '2024-08-31 19:13:41.266228'}\n",
      "{'action': 'nothing', 'balance': 6476.628013000001, 'status': 'do nothing', 'timestamp': '2024-08-31 19:13:43.309308'}\n",
      "{'action': 'nothing', 'balance': 6476.628013000001, 'status': 'do nothing', 'timestamp': '2024-08-31 19:13:45.351628'}\n",
      "{'action': 'nothing', 'balance': 6476.628013000001, 'status': 'do nothing', 'timestamp': '2024-08-31 19:13:47.411732'}\n",
      "{'action': 'sell', 'balance': 6531.568653000001, 'gain': 54.94063999999988, 'investment': 90.51176276770967, 'status': 'sell 1 unit, price 115.640640', 'timestamp': '2024-08-31 19:13:49.463862'}\n",
      "{'action': 'buy', 'balance': 6414.886974000001, 'status': 'buy 1 unit, cost 116.681679', 'timestamp': '2024-08-31 19:13:51.528902'}\n",
      "{'action': 'nothing', 'balance': 6475.686974000001, 'status': 'do nothing', 'timestamp': '2024-08-31 19:13:53.591506'}\n",
      "{'action': 'sell', 'balance': 6534.496683000001, 'gain': 58.8097090000002, 'investment': 96.5676666666673, 'status': 'sell 1 unit, price 119.709709', 'timestamp': '2024-08-31 19:13:55.649512'}\n",
      "{'action': 'nothing', 'balance': 6534.496683000001, 'status': 'do nothing', 'timestamp': '2024-08-31 19:13:57.722774'}\n",
      "{'action': 'nothing', 'balance': 6534.496683000001, 'status': 'do nothing', 'timestamp': '2024-08-31 19:13:59.791905'}\n",
      "{'action': 'nothing', 'balance': 6534.496683000001, 'status': 'do nothing', 'timestamp': '2024-08-31 19:14:01.854341'}\n",
      "{'action': 'nothing', 'balance': 6534.496683000001, 'status': 'do nothing', 'timestamp': '2024-08-31 19:14:03.915299'}\n",
      "{'action': 'nothing', 'balance': 6534.496683000001, 'status': 'do nothing', 'timestamp': '2024-08-31 19:14:05.959199'}\n",
      "{'action': 'nothing', 'balance': 6534.496683000001, 'status': 'do nothing', 'timestamp': '2024-08-31 19:14:08.018151'}\n",
      "{'action': 'nothing', 'balance': 6534.496683000001, 'status': 'do nothing', 'timestamp': '2024-08-31 19:14:10.072362'}\n",
      "{'action': 'sell', 'balance': 6617.240833000002, 'gain': 82.74414999999995, 'investment': 134.76245928338744, 'status': 'sell 1 unit, price 144.144150', 'timestamp': '2024-08-31 19:14:12.105191'}\n",
      "{'action': 'nothing', 'balance': 6617.240833000002, 'status': 'do nothing', 'timestamp': '2024-08-31 19:14:14.156123'}\n",
      "{'action': 'nothing', 'balance': 6617.240833000002, 'status': 'do nothing', 'timestamp': '2024-08-31 19:14:16.211738'}\n"
     ]
    }
   ],
   "source": [
    "for i in range(200):\n",
    "    data = json.dumps([close[i], volume[i]])\n",
    "    requested = requests.get('http://localhost:8005/trade?data=' + data).json()\n",
    "    print(requested)"
   ]
  },
  {
   "cell_type": "code",
   "execution_count": 8,
   "metadata": {},
   "outputs": [
    {
     "data": {
      "image/png": "[encoded data removed]",
      "text/plain": [
       "<Figure size 640x480 with 1 Axes>"
      ]
     },
     "metadata": {},
     "output_type": "display_data"
    },
    {
     "ename": "ConnectionError",
     "evalue": "HTTPConnectionPool(host='localhost', port=8005): Max retries exceeded with url: /trade?data=%5B286.651642,%204700095%5D (Caused by NewConnectionError('<urllib3.connection.HTTPConnection object at 0x0000026FE44458B0>: Failed to establish a new connection: [WinError 10061] No connection could be made because the target machine actively refused it'))",
     "output_type": "error",
     "traceback": [
      "\u001b[1;31m---------------------------------------------------------------------------\u001b[0m",
      "\u001b[1;31mConnectionRefusedError\u001b[0m                    Traceback (most recent call last)",
      "File \u001b[1;32mc:\\Users\\harig\\AppData\\Local\\Programs\\Python\\Python312\\Lib\\site-packages\\urllib3\\connection.py:196\u001b[0m, in \u001b[0;36mHTTPConnection._new_conn\u001b[1;34m(self)\u001b[0m\n\u001b[0;32m    195\u001b[0m \u001b[38;5;28;01mtry\u001b[39;00m:\n\u001b[1;32m--> 196\u001b[0m     sock \u001b[38;5;241m=\u001b[39m \u001b[43mconnection\u001b[49m\u001b[38;5;241;43m.\u001b[39;49m\u001b[43mcreate_connection\u001b[49m\u001b[43m(\u001b[49m\n\u001b[0;32m    197\u001b[0m \u001b[43m        \u001b[49m\u001b[43m(\u001b[49m\u001b[38;5;28;43mself\u001b[39;49m\u001b[38;5;241;43m.\u001b[39;49m\u001b[43m_dns_host\u001b[49m\u001b[43m,\u001b[49m\u001b[43m \u001b[49m\u001b[38;5;28;43mself\u001b[39;49m\u001b[38;5;241;43m.\u001b[39;49m\u001b[43mport\u001b[49m\u001b[43m)\u001b[49m\u001b[43m,\u001b[49m\n\u001b[0;32m    198\u001b[0m \u001b[43m        \u001b[49m\u001b[38;5;28;43mself\u001b[39;49m\u001b[38;5;241;43m.\u001b[39;49m\u001b[43mtimeout\u001b[49m\u001b[43m,\u001b[49m\n\u001b[0;32m    199\u001b[0m \u001b[43m        \u001b[49m\u001b[43msource_address\u001b[49m\u001b[38;5;241;43m=\u001b[39;49m\u001b[38;5;28;43mself\u001b[39;49m\u001b[38;5;241;43m.\u001b[39;49m\u001b[43msource_address\u001b[49m\u001b[43m,\u001b[49m\n\u001b[0;32m    200\u001b[0m \u001b[43m        \u001b[49m\u001b[43msocket_options\u001b[49m\u001b[38;5;241;43m=\u001b[39;49m\u001b[38;5;28;43mself\u001b[39;49m\u001b[38;5;241;43m.\u001b[39;49m\u001b[43msocket_options\u001b[49m\u001b[43m,\u001b[49m\n\u001b[0;32m    201\u001b[0m \u001b[43m    \u001b[49m\u001b[43m)\u001b[49m\n\u001b[0;32m    202\u001b[0m \u001b[38;5;28;01mexcept\u001b[39;00m socket\u001b[38;5;241m.\u001b[39mgaierror \u001b[38;5;28;01mas\u001b[39;00m e:\n",
      "File \u001b[1;32mc:\\Users\\harig\\AppData\\Local\\Programs\\Python\\Python312\\Lib\\site-packages\\urllib3\\util\\connection.py:85\u001b[0m, in \u001b[0;36mcreate_connection\u001b[1;34m(address, timeout, source_address, socket_options)\u001b[0m\n\u001b[0;32m     84\u001b[0m \u001b[38;5;28;01mtry\u001b[39;00m:\n\u001b[1;32m---> 85\u001b[0m     \u001b[38;5;28;01mraise\u001b[39;00m err\n\u001b[0;32m     86\u001b[0m \u001b[38;5;28;01mfinally\u001b[39;00m:\n\u001b[0;32m     87\u001b[0m     \u001b[38;5;66;03m# Break explicitly a reference cycle\u001b[39;00m\n",
      "File \u001b[1;32mc:\\Users\\harig\\AppData\\Local\\Programs\\Python\\Python312\\Lib\\site-packages\\urllib3\\util\\connection.py:73\u001b[0m, in \u001b[0;36mcreate_connection\u001b[1;34m(address, timeout, source_address, socket_options)\u001b[0m\n\u001b[0;32m     72\u001b[0m     sock\u001b[38;5;241m.\u001b[39mbind(source_address)\n\u001b[1;32m---> 73\u001b[0m \u001b[43msock\u001b[49m\u001b[38;5;241;43m.\u001b[39;49m\u001b[43mconnect\u001b[49m\u001b[43m(\u001b[49m\u001b[43msa\u001b[49m\u001b[43m)\u001b[49m\n\u001b[0;32m     74\u001b[0m \u001b[38;5;66;03m# Break explicitly a reference cycle\u001b[39;00m\n",
      "\u001b[1;31mConnectionRefusedError\u001b[0m: [WinError 10061] No connection could be made because the target machine actively refused it",
      "\nThe above exception was the direct cause of the following exception:\n",
      "\u001b[1;31mNewConnectionError\u001b[0m                        Traceback (most recent call last)",
      "File \u001b[1;32mc:\\Users\\harig\\AppData\\Local\\Programs\\Python\\Python312\\Lib\\site-packages\\urllib3\\connectionpool.py:789\u001b[0m, in \u001b[0;36mHTTPConnectionPool.urlopen\u001b[1;34m(self, method, url, body, headers, retries, redirect, assert_same_host, timeout, pool_timeout, release_conn, chunked, body_pos, preload_content, decode_content, **response_kw)\u001b[0m\n\u001b[0;32m    788\u001b[0m \u001b[38;5;66;03m# Make the request on the HTTPConnection object\u001b[39;00m\n\u001b[1;32m--> 789\u001b[0m response \u001b[38;5;241m=\u001b[39m \u001b[38;5;28;43mself\u001b[39;49m\u001b[38;5;241;43m.\u001b[39;49m\u001b[43m_make_request\u001b[49m\u001b[43m(\u001b[49m\n\u001b[0;32m    790\u001b[0m \u001b[43m    \u001b[49m\u001b[43mconn\u001b[49m\u001b[43m,\u001b[49m\n\u001b[0;32m    791\u001b[0m \u001b[43m    \u001b[49m\u001b[43mmethod\u001b[49m\u001b[43m,\u001b[49m\n\u001b[0;32m    792\u001b[0m \u001b[43m    \u001b[49m\u001b[43murl\u001b[49m\u001b[43m,\u001b[49m\n\u001b[0;32m    793\u001b[0m \u001b[43m    \u001b[49m\u001b[43mtimeout\u001b[49m\u001b[38;5;241;43m=\u001b[39;49m\u001b[43mtimeout_obj\u001b[49m\u001b[43m,\u001b[49m\n\u001b[0;32m    794\u001b[0m \u001b[43m    \u001b[49m\u001b[43mbody\u001b[49m\u001b[38;5;241;43m=\u001b[39;49m\u001b[43mbody\u001b[49m\u001b[43m,\u001b[49m\n\u001b[0;32m    795\u001b[0m \u001b[43m    \u001b[49m\u001b[43mheaders\u001b[49m\u001b[38;5;241;43m=\u001b[39;49m\u001b[43mheaders\u001b[49m\u001b[43m,\u001b[49m\n\u001b[0;32m    796\u001b[0m \u001b[43m    \u001b[49m\u001b[43mchunked\u001b[49m\u001b[38;5;241;43m=\u001b[39;49m\u001b[43mchunked\u001b[49m\u001b[43m,\u001b[49m\n\u001b[0;32m    797\u001b[0m \u001b[43m    \u001b[49m\u001b[43mretries\u001b[49m\u001b[38;5;241;43m=\u001b[39;49m\u001b[43mretries\u001b[49m\u001b[43m,\u001b[49m\n\u001b[0;32m    798\u001b[0m \u001b[43m    \u001b[49m\u001b[43mresponse_conn\u001b[49m\u001b[38;5;241;43m=\u001b[39;49m\u001b[43mresponse_conn\u001b[49m\u001b[43m,\u001b[49m\n\u001b[0;32m    799\u001b[0m \u001b[43m    \u001b[49m\u001b[43mpreload_content\u001b[49m\u001b[38;5;241;43m=\u001b[39;49m\u001b[43mpreload_content\u001b[49m\u001b[43m,\u001b[49m\n\u001b[0;32m    800\u001b[0m \u001b[43m    \u001b[49m\u001b[43mdecode_content\u001b[49m\u001b[38;5;241;43m=\u001b[39;49m\u001b[43mdecode_content\u001b[49m\u001b[43m,\u001b[49m\n\u001b[0;32m    801\u001b[0m \u001b[43m    \u001b[49m\u001b[38;5;241;43m*\u001b[39;49m\u001b[38;5;241;43m*\u001b[39;49m\u001b[43mresponse_kw\u001b[49m\u001b[43m,\u001b[49m\n\u001b[0;32m    802\u001b[0m \u001b[43m\u001b[49m\u001b[43m)\u001b[49m\n\u001b[0;32m    804\u001b[0m \u001b[38;5;66;03m# Everything went great!\u001b[39;00m\n",
      "File \u001b[1;32mc:\\Users\\harig\\AppData\\Local\\Programs\\Python\\Python312\\Lib\\site-packages\\urllib3\\connectionpool.py:495\u001b[0m, in \u001b[0;36mHTTPConnectionPool._make_request\u001b[1;34m(self, conn, method, url, body, headers, retries, timeout, chunked, response_conn, preload_content, decode_content, enforce_content_length)\u001b[0m\n\u001b[0;32m    494\u001b[0m \u001b[38;5;28;01mtry\u001b[39;00m:\n\u001b[1;32m--> 495\u001b[0m     \u001b[43mconn\u001b[49m\u001b[38;5;241;43m.\u001b[39;49m\u001b[43mrequest\u001b[49m\u001b[43m(\u001b[49m\n\u001b[0;32m    496\u001b[0m \u001b[43m        \u001b[49m\u001b[43mmethod\u001b[49m\u001b[43m,\u001b[49m\n\u001b[0;32m    497\u001b[0m \u001b[43m        \u001b[49m\u001b[43murl\u001b[49m\u001b[43m,\u001b[49m\n\u001b[0;32m    498\u001b[0m \u001b[43m        \u001b[49m\u001b[43mbody\u001b[49m\u001b[38;5;241;43m=\u001b[39;49m\u001b[43mbody\u001b[49m\u001b[43m,\u001b[49m\n\u001b[0;32m    499\u001b[0m \u001b[43m        \u001b[49m\u001b[43mheaders\u001b[49m\u001b[38;5;241;43m=\u001b[39;49m\u001b[43mheaders\u001b[49m\u001b[43m,\u001b[49m\n\u001b[0;32m    500\u001b[0m \u001b[43m        \u001b[49m\u001b[43mchunked\u001b[49m\u001b[38;5;241;43m=\u001b[39;49m\u001b[43mchunked\u001b[49m\u001b[43m,\u001b[49m\n\u001b[0;32m    501\u001b[0m \u001b[43m        \u001b[49m\u001b[43mpreload_content\u001b[49m\u001b[38;5;241;43m=\u001b[39;49m\u001b[43mpreload_content\u001b[49m\u001b[43m,\u001b[49m\n\u001b[0;32m    502\u001b[0m \u001b[43m        \u001b[49m\u001b[43mdecode_content\u001b[49m\u001b[38;5;241;43m=\u001b[39;49m\u001b[43mdecode_content\u001b[49m\u001b[43m,\u001b[49m\n\u001b[0;32m    503\u001b[0m \u001b[43m        \u001b[49m\u001b[43menforce_content_length\u001b[49m\u001b[38;5;241;43m=\u001b[39;49m\u001b[43menforce_content_length\u001b[49m\u001b[43m,\u001b[49m\n\u001b[0;32m    504\u001b[0m \u001b[43m    \u001b[49m\u001b[43m)\u001b[49m\n\u001b[0;32m    506\u001b[0m \u001b[38;5;66;03m# We are swallowing BrokenPipeError (errno.EPIPE) since the server is\u001b[39;00m\n\u001b[0;32m    507\u001b[0m \u001b[38;5;66;03m# legitimately able to close the connection after sending a valid response.\u001b[39;00m\n\u001b[0;32m    508\u001b[0m \u001b[38;5;66;03m# With this behaviour, the received response is still readable.\u001b[39;00m\n",
      "File \u001b[1;32mc:\\Users\\harig\\AppData\\Local\\Programs\\Python\\Python312\\Lib\\site-packages\\urllib3\\connection.py:398\u001b[0m, in \u001b[0;36mHTTPConnection.request\u001b[1;34m(self, method, url, body, headers, chunked, preload_content, decode_content, enforce_content_length)\u001b[0m\n\u001b[0;32m    397\u001b[0m     \u001b[38;5;28mself\u001b[39m\u001b[38;5;241m.\u001b[39mputheader(header, value)\n\u001b[1;32m--> 398\u001b[0m \u001b[38;5;28;43mself\u001b[39;49m\u001b[38;5;241;43m.\u001b[39;49m\u001b[43mendheaders\u001b[49m\u001b[43m(\u001b[49m\u001b[43m)\u001b[49m\n\u001b[0;32m    400\u001b[0m \u001b[38;5;66;03m# If we're given a body we start sending that in chunks.\u001b[39;00m\n",
      "File \u001b[1;32mc:\\Users\\harig\\AppData\\Local\\Programs\\Python\\Python312\\Lib\\http\\client.py:1331\u001b[0m, in \u001b[0;36mHTTPConnection.endheaders\u001b[1;34m(self, message_body, encode_chunked)\u001b[0m\n\u001b[0;32m   1330\u001b[0m     \u001b[38;5;28;01mraise\u001b[39;00m CannotSendHeader()\n\u001b[1;32m-> 1331\u001b[0m \u001b[38;5;28;43mself\u001b[39;49m\u001b[38;5;241;43m.\u001b[39;49m\u001b[43m_send_output\u001b[49m\u001b[43m(\u001b[49m\u001b[43mmessage_body\u001b[49m\u001b[43m,\u001b[49m\u001b[43m \u001b[49m\u001b[43mencode_chunked\u001b[49m\u001b[38;5;241;43m=\u001b[39;49m\u001b[43mencode_chunked\u001b[49m\u001b[43m)\u001b[49m\n",
      "File \u001b[1;32mc:\\Users\\harig\\AppData\\Local\\Programs\\Python\\Python312\\Lib\\http\\client.py:1091\u001b[0m, in \u001b[0;36mHTTPConnection._send_output\u001b[1;34m(self, message_body, encode_chunked)\u001b[0m\n\u001b[0;32m   1090\u001b[0m \u001b[38;5;28;01mdel\u001b[39;00m \u001b[38;5;28mself\u001b[39m\u001b[38;5;241m.\u001b[39m_buffer[:]\n\u001b[1;32m-> 1091\u001b[0m \u001b[38;5;28;43mself\u001b[39;49m\u001b[38;5;241;43m.\u001b[39;49m\u001b[43msend\u001b[49m\u001b[43m(\u001b[49m\u001b[43mmsg\u001b[49m\u001b[43m)\u001b[49m\n\u001b[0;32m   1093\u001b[0m \u001b[38;5;28;01mif\u001b[39;00m message_body \u001b[38;5;129;01mis\u001b[39;00m \u001b[38;5;129;01mnot\u001b[39;00m \u001b[38;5;28;01mNone\u001b[39;00m:\n\u001b[0;32m   1094\u001b[0m \n\u001b[0;32m   1095\u001b[0m     \u001b[38;5;66;03m# create a consistent interface to message_body\u001b[39;00m\n",
      "File \u001b[1;32mc:\\Users\\harig\\AppData\\Local\\Programs\\Python\\Python312\\Lib\\http\\client.py:1035\u001b[0m, in \u001b[0;36mHTTPConnection.send\u001b[1;34m(self, data)\u001b[0m\n\u001b[0;32m   1034\u001b[0m \u001b[38;5;28;01mif\u001b[39;00m \u001b[38;5;28mself\u001b[39m\u001b[38;5;241m.\u001b[39mauto_open:\n\u001b[1;32m-> 1035\u001b[0m     \u001b[38;5;28;43mself\u001b[39;49m\u001b[38;5;241;43m.\u001b[39;49m\u001b[43mconnect\u001b[49m\u001b[43m(\u001b[49m\u001b[43m)\u001b[49m\n\u001b[0;32m   1036\u001b[0m \u001b[38;5;28;01melse\u001b[39;00m:\n",
      "File \u001b[1;32mc:\\Users\\harig\\AppData\\Local\\Programs\\Python\\Python312\\Lib\\site-packages\\urllib3\\connection.py:236\u001b[0m, in \u001b[0;36mHTTPConnection.connect\u001b[1;34m(self)\u001b[0m\n\u001b[0;32m    235\u001b[0m \u001b[38;5;28;01mdef\u001b[39;00m \u001b[38;5;21mconnect\u001b[39m(\u001b[38;5;28mself\u001b[39m) \u001b[38;5;241m-\u001b[39m\u001b[38;5;241m>\u001b[39m \u001b[38;5;28;01mNone\u001b[39;00m:\n\u001b[1;32m--> 236\u001b[0m     \u001b[38;5;28mself\u001b[39m\u001b[38;5;241m.\u001b[39msock \u001b[38;5;241m=\u001b[39m \u001b[38;5;28;43mself\u001b[39;49m\u001b[38;5;241;43m.\u001b[39;49m\u001b[43m_new_conn\u001b[49m\u001b[43m(\u001b[49m\u001b[43m)\u001b[49m\n\u001b[0;32m    237\u001b[0m     \u001b[38;5;28;01mif\u001b[39;00m \u001b[38;5;28mself\u001b[39m\u001b[38;5;241m.\u001b[39m_tunnel_host:\n\u001b[0;32m    238\u001b[0m         \u001b[38;5;66;03m# If we're tunneling it means we're connected to our proxy.\u001b[39;00m\n",
      "File \u001b[1;32mc:\\Users\\harig\\AppData\\Local\\Programs\\Python\\Python312\\Lib\\site-packages\\urllib3\\connection.py:211\u001b[0m, in \u001b[0;36mHTTPConnection._new_conn\u001b[1;34m(self)\u001b[0m\n\u001b[0;32m    210\u001b[0m \u001b[38;5;28;01mexcept\u001b[39;00m \u001b[38;5;167;01mOSError\u001b[39;00m \u001b[38;5;28;01mas\u001b[39;00m e:\n\u001b[1;32m--> 211\u001b[0m     \u001b[38;5;28;01mraise\u001b[39;00m NewConnectionError(\n\u001b[0;32m    212\u001b[0m         \u001b[38;5;28mself\u001b[39m, \u001b[38;5;124mf\u001b[39m\u001b[38;5;124m\"\u001b[39m\u001b[38;5;124mFailed to establish a new connection: \u001b[39m\u001b[38;5;132;01m{\u001b[39;00me\u001b[38;5;132;01m}\u001b[39;00m\u001b[38;5;124m\"\u001b[39m\n\u001b[0;32m    213\u001b[0m     ) \u001b[38;5;28;01mfrom\u001b[39;00m \u001b[38;5;21;01me\u001b[39;00m\n\u001b[0;32m    215\u001b[0m \u001b[38;5;66;03m# Audit hooks are only available in Python 3.8+\u001b[39;00m\n",
      "\u001b[1;31mNewConnectionError\u001b[0m: <urllib3.connection.HTTPConnection object at 0x0000026FE44458B0>: Failed to establish a new connection: [WinError 10061] No connection could be made because the target machine actively refused it",
      "\nThe above exception was the direct cause of the following exception:\n",
      "\u001b[1;31mMaxRetryError\u001b[0m                             Traceback (most recent call last)",
      "File \u001b[1;32mc:\\Users\\harig\\AppData\\Local\\Programs\\Python\\Python312\\Lib\\site-packages\\requests\\adapters.py:667\u001b[0m, in \u001b[0;36mHTTPAdapter.send\u001b[1;34m(self, request, stream, timeout, verify, cert, proxies)\u001b[0m\n\u001b[0;32m    666\u001b[0m \u001b[38;5;28;01mtry\u001b[39;00m:\n\u001b[1;32m--> 667\u001b[0m     resp \u001b[38;5;241m=\u001b[39m \u001b[43mconn\u001b[49m\u001b[38;5;241;43m.\u001b[39;49m\u001b[43murlopen\u001b[49m\u001b[43m(\u001b[49m\n\u001b[0;32m    668\u001b[0m \u001b[43m        \u001b[49m\u001b[43mmethod\u001b[49m\u001b[38;5;241;43m=\u001b[39;49m\u001b[43mrequest\u001b[49m\u001b[38;5;241;43m.\u001b[39;49m\u001b[43mmethod\u001b[49m\u001b[43m,\u001b[49m\n\u001b[0;32m    669\u001b[0m \u001b[43m        \u001b[49m\u001b[43murl\u001b[49m\u001b[38;5;241;43m=\u001b[39;49m\u001b[43murl\u001b[49m\u001b[43m,\u001b[49m\n\u001b[0;32m    670\u001b[0m \u001b[43m        \u001b[49m\u001b[43mbody\u001b[49m\u001b[38;5;241;43m=\u001b[39;49m\u001b[43mrequest\u001b[49m\u001b[38;5;241;43m.\u001b[39;49m\u001b[43mbody\u001b[49m\u001b[43m,\u001b[49m\n\u001b[0;32m    671\u001b[0m \u001b[43m        \u001b[49m\u001b[43mheaders\u001b[49m\u001b[38;5;241;43m=\u001b[39;49m\u001b[43mrequest\u001b[49m\u001b[38;5;241;43m.\u001b[39;49m\u001b[43mheaders\u001b[49m\u001b[43m,\u001b[49m\n\u001b[0;32m    672\u001b[0m \u001b[43m        \u001b[49m\u001b[43mredirect\u001b[49m\u001b[38;5;241;43m=\u001b[39;49m\u001b[38;5;28;43;01mFalse\u001b[39;49;00m\u001b[43m,\u001b[49m\n\u001b[0;32m    673\u001b[0m \u001b[43m        \u001b[49m\u001b[43massert_same_host\u001b[49m\u001b[38;5;241;43m=\u001b[39;49m\u001b[38;5;28;43;01mFalse\u001b[39;49;00m\u001b[43m,\u001b[49m\n\u001b[0;32m    674\u001b[0m \u001b[43m        \u001b[49m\u001b[43mpreload_content\u001b[49m\u001b[38;5;241;43m=\u001b[39;49m\u001b[38;5;28;43;01mFalse\u001b[39;49;00m\u001b[43m,\u001b[49m\n\u001b[0;32m    675\u001b[0m \u001b[43m        \u001b[49m\u001b[43mdecode_content\u001b[49m\u001b[38;5;241;43m=\u001b[39;49m\u001b[38;5;28;43;01mFalse\u001b[39;49;00m\u001b[43m,\u001b[49m\n\u001b[0;32m    676\u001b[0m \u001b[43m        \u001b[49m\u001b[43mretries\u001b[49m\u001b[38;5;241;43m=\u001b[39;49m\u001b[38;5;28;43mself\u001b[39;49m\u001b[38;5;241;43m.\u001b[39;49m\u001b[43mmax_retries\u001b[49m\u001b[43m,\u001b[49m\n\u001b[0;32m    677\u001b[0m \u001b[43m        \u001b[49m\u001b[43mtimeout\u001b[49m\u001b[38;5;241;43m=\u001b[39;49m\u001b[43mtimeout\u001b[49m\u001b[43m,\u001b[49m\n\u001b[0;32m    678\u001b[0m \u001b[43m        \u001b[49m\u001b[43mchunked\u001b[49m\u001b[38;5;241;43m=\u001b[39;49m\u001b[43mchunked\u001b[49m\u001b[43m,\u001b[49m\n\u001b[0;32m    679\u001b[0m \u001b[43m    \u001b[49m\u001b[43m)\u001b[49m\n\u001b[0;32m    681\u001b[0m \u001b[38;5;28;01mexcept\u001b[39;00m (ProtocolError, \u001b[38;5;167;01mOSError\u001b[39;00m) \u001b[38;5;28;01mas\u001b[39;00m err:\n",
      "File \u001b[1;32mc:\\Users\\harig\\AppData\\Local\\Programs\\Python\\Python312\\Lib\\site-packages\\urllib3\\connectionpool.py:843\u001b[0m, in \u001b[0;36mHTTPConnectionPool.urlopen\u001b[1;34m(self, method, url, body, headers, retries, redirect, assert_same_host, timeout, pool_timeout, release_conn, chunked, body_pos, preload_content, decode_content, **response_kw)\u001b[0m\n\u001b[0;32m    841\u001b[0m     new_e \u001b[38;5;241m=\u001b[39m ProtocolError(\u001b[38;5;124m\"\u001b[39m\u001b[38;5;124mConnection aborted.\u001b[39m\u001b[38;5;124m\"\u001b[39m, new_e)\n\u001b[1;32m--> 843\u001b[0m retries \u001b[38;5;241m=\u001b[39m \u001b[43mretries\u001b[49m\u001b[38;5;241;43m.\u001b[39;49m\u001b[43mincrement\u001b[49m\u001b[43m(\u001b[49m\n\u001b[0;32m    844\u001b[0m \u001b[43m    \u001b[49m\u001b[43mmethod\u001b[49m\u001b[43m,\u001b[49m\u001b[43m \u001b[49m\u001b[43murl\u001b[49m\u001b[43m,\u001b[49m\u001b[43m \u001b[49m\u001b[43merror\u001b[49m\u001b[38;5;241;43m=\u001b[39;49m\u001b[43mnew_e\u001b[49m\u001b[43m,\u001b[49m\u001b[43m \u001b[49m\u001b[43m_pool\u001b[49m\u001b[38;5;241;43m=\u001b[39;49m\u001b[38;5;28;43mself\u001b[39;49m\u001b[43m,\u001b[49m\u001b[43m \u001b[49m\u001b[43m_stacktrace\u001b[49m\u001b[38;5;241;43m=\u001b[39;49m\u001b[43msys\u001b[49m\u001b[38;5;241;43m.\u001b[39;49m\u001b[43mexc_info\u001b[49m\u001b[43m(\u001b[49m\u001b[43m)\u001b[49m\u001b[43m[\u001b[49m\u001b[38;5;241;43m2\u001b[39;49m\u001b[43m]\u001b[49m\n\u001b[0;32m    845\u001b[0m \u001b[43m\u001b[49m\u001b[43m)\u001b[49m\n\u001b[0;32m    846\u001b[0m retries\u001b[38;5;241m.\u001b[39msleep()\n",
      "File \u001b[1;32mc:\\Users\\harig\\AppData\\Local\\Programs\\Python\\Python312\\Lib\\site-packages\\urllib3\\util\\retry.py:519\u001b[0m, in \u001b[0;36mRetry.increment\u001b[1;34m(self, method, url, response, error, _pool, _stacktrace)\u001b[0m\n\u001b[0;32m    518\u001b[0m     reason \u001b[38;5;241m=\u001b[39m error \u001b[38;5;129;01mor\u001b[39;00m ResponseError(cause)\n\u001b[1;32m--> 519\u001b[0m     \u001b[38;5;28;01mraise\u001b[39;00m MaxRetryError(_pool, url, reason) \u001b[38;5;28;01mfrom\u001b[39;00m \u001b[38;5;21;01mreason\u001b[39;00m  \u001b[38;5;66;03m# type: ignore[arg-type]\u001b[39;00m\n\u001b[0;32m    521\u001b[0m log\u001b[38;5;241m.\u001b[39mdebug(\u001b[38;5;124m\"\u001b[39m\u001b[38;5;124mIncremented Retry for (url=\u001b[39m\u001b[38;5;124m'\u001b[39m\u001b[38;5;132;01m%s\u001b[39;00m\u001b[38;5;124m'\u001b[39m\u001b[38;5;124m): \u001b[39m\u001b[38;5;132;01m%r\u001b[39;00m\u001b[38;5;124m\"\u001b[39m, url, new_retry)\n",
      "\u001b[1;31mMaxRetryError\u001b[0m: HTTPConnectionPool(host='localhost', port=8005): Max retries exceeded with url: /trade?data=%5B286.651642,%204700095%5D (Caused by NewConnectionError('<urllib3.connection.HTTPConnection object at 0x0000026FE44458B0>: Failed to establish a new connection: [WinError 10061] No connection could be made because the target machine actively refused it'))",
      "\nDuring handling of the above exception, another exception occurred:\n",
      "\u001b[1;31mConnectionError\u001b[0m                           Traceback (most recent call last)",
      "Cell \u001b[1;32mIn[8], line 13\u001b[0m\n\u001b[0;32m     10\u001b[0m data \u001b[38;5;241m=\u001b[39m json\u001b[38;5;241m.\u001b[39mdumps([close[i], volume[i]])\n\u001b[0;32m     12\u001b[0m \u001b[38;5;66;03m# Make trading decision\u001b[39;00m\n\u001b[1;32m---> 13\u001b[0m requested \u001b[38;5;241m=\u001b[39m \u001b[43mrequests\u001b[49m\u001b[38;5;241;43m.\u001b[39;49m\u001b[43mget\u001b[49m\u001b[43m(\u001b[49m\u001b[38;5;124;43m'\u001b[39;49m\u001b[38;5;124;43mhttp://localhost:8005/trade?data=\u001b[39;49m\u001b[38;5;124;43m'\u001b[39;49m\u001b[43m \u001b[49m\u001b[38;5;241;43m+\u001b[39;49m\u001b[43m \u001b[49m\u001b[43mdata\u001b[49m\u001b[43m)\u001b[49m\u001b[38;5;241m.\u001b[39mjson()\n\u001b[0;32m     15\u001b[0m \u001b[38;5;66;03m# Update plot\u001b[39;00m\n\u001b[0;32m     16\u001b[0m ax\u001b[38;5;241m.\u001b[39mscatter(i, close[i], color\u001b[38;5;241m=\u001b[39m\u001b[38;5;124m'\u001b[39m\u001b[38;5;124mr\u001b[39m\u001b[38;5;124m'\u001b[39m \u001b[38;5;28;01mif\u001b[39;00m requested[\u001b[38;5;124m'\u001b[39m\u001b[38;5;124maction\u001b[39m\u001b[38;5;124m'\u001b[39m] \u001b[38;5;241m==\u001b[39m \u001b[38;5;124m'\u001b[39m\u001b[38;5;124mbuy\u001b[39m\u001b[38;5;124m'\u001b[39m \u001b[38;5;28;01melse\u001b[39;00m \u001b[38;5;124m'\u001b[39m\u001b[38;5;124mg\u001b[39m\u001b[38;5;124m'\u001b[39m)  \u001b[38;5;66;03m# Plot buy/sell points\u001b[39;00m\n",
      "File \u001b[1;32mc:\\Users\\harig\\AppData\\Local\\Programs\\Python\\Python312\\Lib\\site-packages\\requests\\api.py:73\u001b[0m, in \u001b[0;36mget\u001b[1;34m(url, params, **kwargs)\u001b[0m\n\u001b[0;32m     62\u001b[0m \u001b[38;5;28;01mdef\u001b[39;00m \u001b[38;5;21mget\u001b[39m(url, params\u001b[38;5;241m=\u001b[39m\u001b[38;5;28;01mNone\u001b[39;00m, \u001b[38;5;241m*\u001b[39m\u001b[38;5;241m*\u001b[39mkwargs):\n\u001b[0;32m     63\u001b[0m \u001b[38;5;250m    \u001b[39m\u001b[38;5;124mr\u001b[39m\u001b[38;5;124;03m\"\"\"Sends a GET request.\u001b[39;00m\n\u001b[0;32m     64\u001b[0m \n\u001b[0;32m     65\u001b[0m \u001b[38;5;124;03m    :param url: URL for the new :class:`Request` object.\u001b[39;00m\n\u001b[1;32m   (...)\u001b[0m\n\u001b[0;32m     70\u001b[0m \u001b[38;5;124;03m    :rtype: requests.Response\u001b[39;00m\n\u001b[0;32m     71\u001b[0m \u001b[38;5;124;03m    \"\"\"\u001b[39;00m\n\u001b[1;32m---> 73\u001b[0m     \u001b[38;5;28;01mreturn\u001b[39;00m \u001b[43mrequest\u001b[49m\u001b[43m(\u001b[49m\u001b[38;5;124;43m\"\u001b[39;49m\u001b[38;5;124;43mget\u001b[39;49m\u001b[38;5;124;43m\"\u001b[39;49m\u001b[43m,\u001b[49m\u001b[43m \u001b[49m\u001b[43murl\u001b[49m\u001b[43m,\u001b[49m\u001b[43m \u001b[49m\u001b[43mparams\u001b[49m\u001b[38;5;241;43m=\u001b[39;49m\u001b[43mparams\u001b[49m\u001b[43m,\u001b[49m\u001b[43m \u001b[49m\u001b[38;5;241;43m*\u001b[39;49m\u001b[38;5;241;43m*\u001b[39;49m\u001b[43mkwargs\u001b[49m\u001b[43m)\u001b[49m\n",
      "File \u001b[1;32mc:\\Users\\harig\\AppData\\Local\\Programs\\Python\\Python312\\Lib\\site-packages\\requests\\api.py:59\u001b[0m, in \u001b[0;36mrequest\u001b[1;34m(method, url, **kwargs)\u001b[0m\n\u001b[0;32m     55\u001b[0m \u001b[38;5;66;03m# By using the 'with' statement we are sure the session is closed, thus we\u001b[39;00m\n\u001b[0;32m     56\u001b[0m \u001b[38;5;66;03m# avoid leaving sockets open which can trigger a ResourceWarning in some\u001b[39;00m\n\u001b[0;32m     57\u001b[0m \u001b[38;5;66;03m# cases, and look like a memory leak in others.\u001b[39;00m\n\u001b[0;32m     58\u001b[0m \u001b[38;5;28;01mwith\u001b[39;00m sessions\u001b[38;5;241m.\u001b[39mSession() \u001b[38;5;28;01mas\u001b[39;00m session:\n\u001b[1;32m---> 59\u001b[0m     \u001b[38;5;28;01mreturn\u001b[39;00m \u001b[43msession\u001b[49m\u001b[38;5;241;43m.\u001b[39;49m\u001b[43mrequest\u001b[49m\u001b[43m(\u001b[49m\u001b[43mmethod\u001b[49m\u001b[38;5;241;43m=\u001b[39;49m\u001b[43mmethod\u001b[49m\u001b[43m,\u001b[49m\u001b[43m \u001b[49m\u001b[43murl\u001b[49m\u001b[38;5;241;43m=\u001b[39;49m\u001b[43murl\u001b[49m\u001b[43m,\u001b[49m\u001b[43m \u001b[49m\u001b[38;5;241;43m*\u001b[39;49m\u001b[38;5;241;43m*\u001b[39;49m\u001b[43mkwargs\u001b[49m\u001b[43m)\u001b[49m\n",
      "File \u001b[1;32mc:\\Users\\harig\\AppData\\Local\\Programs\\Python\\Python312\\Lib\\site-packages\\requests\\sessions.py:589\u001b[0m, in \u001b[0;36mSession.request\u001b[1;34m(self, method, url, params, data, headers, cookies, files, auth, timeout, allow_redirects, proxies, hooks, stream, verify, cert, json)\u001b[0m\n\u001b[0;32m    584\u001b[0m send_kwargs \u001b[38;5;241m=\u001b[39m {\n\u001b[0;32m    585\u001b[0m     \u001b[38;5;124m\"\u001b[39m\u001b[38;5;124mtimeout\u001b[39m\u001b[38;5;124m\"\u001b[39m: timeout,\n\u001b[0;32m    586\u001b[0m     \u001b[38;5;124m\"\u001b[39m\u001b[38;5;124mallow_redirects\u001b[39m\u001b[38;5;124m\"\u001b[39m: allow_redirects,\n\u001b[0;32m    587\u001b[0m }\n\u001b[0;32m    588\u001b[0m send_kwargs\u001b[38;5;241m.\u001b[39mupdate(settings)\n\u001b[1;32m--> 589\u001b[0m resp \u001b[38;5;241m=\u001b[39m \u001b[38;5;28;43mself\u001b[39;49m\u001b[38;5;241;43m.\u001b[39;49m\u001b[43msend\u001b[49m\u001b[43m(\u001b[49m\u001b[43mprep\u001b[49m\u001b[43m,\u001b[49m\u001b[43m \u001b[49m\u001b[38;5;241;43m*\u001b[39;49m\u001b[38;5;241;43m*\u001b[39;49m\u001b[43msend_kwargs\u001b[49m\u001b[43m)\u001b[49m\n\u001b[0;32m    591\u001b[0m \u001b[38;5;28;01mreturn\u001b[39;00m resp\n",
      "File \u001b[1;32mc:\\Users\\harig\\AppData\\Local\\Programs\\Python\\Python312\\Lib\\site-packages\\requests\\sessions.py:703\u001b[0m, in \u001b[0;36mSession.send\u001b[1;34m(self, request, **kwargs)\u001b[0m\n\u001b[0;32m    700\u001b[0m start \u001b[38;5;241m=\u001b[39m preferred_clock()\n\u001b[0;32m    702\u001b[0m \u001b[38;5;66;03m# Send the request\u001b[39;00m\n\u001b[1;32m--> 703\u001b[0m r \u001b[38;5;241m=\u001b[39m \u001b[43madapter\u001b[49m\u001b[38;5;241;43m.\u001b[39;49m\u001b[43msend\u001b[49m\u001b[43m(\u001b[49m\u001b[43mrequest\u001b[49m\u001b[43m,\u001b[49m\u001b[43m \u001b[49m\u001b[38;5;241;43m*\u001b[39;49m\u001b[38;5;241;43m*\u001b[39;49m\u001b[43mkwargs\u001b[49m\u001b[43m)\u001b[49m\n\u001b[0;32m    705\u001b[0m \u001b[38;5;66;03m# Total elapsed time of the request (approximately)\u001b[39;00m\n\u001b[0;32m    706\u001b[0m elapsed \u001b[38;5;241m=\u001b[39m preferred_clock() \u001b[38;5;241m-\u001b[39m start\n",
      "File \u001b[1;32mc:\\Users\\harig\\AppData\\Local\\Programs\\Python\\Python312\\Lib\\site-packages\\requests\\adapters.py:700\u001b[0m, in \u001b[0;36mHTTPAdapter.send\u001b[1;34m(self, request, stream, timeout, verify, cert, proxies)\u001b[0m\n\u001b[0;32m    696\u001b[0m     \u001b[38;5;28;01mif\u001b[39;00m \u001b[38;5;28misinstance\u001b[39m(e\u001b[38;5;241m.\u001b[39mreason, _SSLError):\n\u001b[0;32m    697\u001b[0m         \u001b[38;5;66;03m# This branch is for urllib3 v1.22 and later.\u001b[39;00m\n\u001b[0;32m    698\u001b[0m         \u001b[38;5;28;01mraise\u001b[39;00m SSLError(e, request\u001b[38;5;241m=\u001b[39mrequest)\n\u001b[1;32m--> 700\u001b[0m     \u001b[38;5;28;01mraise\u001b[39;00m \u001b[38;5;167;01mConnectionError\u001b[39;00m(e, request\u001b[38;5;241m=\u001b[39mrequest)\n\u001b[0;32m    702\u001b[0m \u001b[38;5;28;01mexcept\u001b[39;00m ClosedPoolError \u001b[38;5;28;01mas\u001b[39;00m e:\n\u001b[0;32m    703\u001b[0m     \u001b[38;5;28;01mraise\u001b[39;00m \u001b[38;5;167;01mConnectionError\u001b[39;00m(e, request\u001b[38;5;241m=\u001b[39mrequest)\n",
      "\u001b[1;31mConnectionError\u001b[0m: HTTPConnectionPool(host='localhost', port=8005): Max retries exceeded with url: /trade?data=%5B286.651642,%204700095%5D (Caused by NewConnectionError('<urllib3.connection.HTTPConnection object at 0x0000026FE44458B0>: Failed to establish a new connection: [WinError 10061] No connection could be made because the target machine actively refused it'))"
     ]
    }
   ],
   "source": [
    "# Initialize plot\n",
    "plt.ion()\n",
    "fig, ax = plt.subplots()\n",
    "ax.plot(close, label='Close Price')\n",
    "ax.legend()\n",
    "\n",
    "# Loop through data and make trading decisions\n",
    "for i in range(len(close)):\n",
    "    # Prepare data for trading\n",
    "    data = json.dumps([close[i], volume[i]])\n",
    "    \n",
    "    # Make trading decision\n",
    "    requested = requests.get('http://localhost:8005/trade?data=' + data).json()\n",
    "    \n",
    "    # Update plot\n",
    "    ax.scatter(i, close[i], color='r' if requested['action'] == 'buy' else 'g')  # Plot buy/sell points\n",
    "    plt.pause(0.01)\n",
    "\n",
    "plt.ioff()\n",
    "plt.show()"
   ]
  },
  {
   "cell_type": "code",
   "execution_count": null,
   "metadata": {},
   "outputs": [],
   "source": []
  }
 ],
 "metadata": {
  "kernelspec": {
   "display_name": "Python 3 (ipykernel)",
   "language": "python",
   "name": "python3"
  },
  "language_info": {
   "codemirror_mode": {
    "name": "ipython",
    "version": 3
   },
   "file_extension": ".py",
   "mimetype": "text/x-python",
   "name": "python",
   "nbconvert_exporter": "python",
   "pygments_lexer": "ipython3",
   "version": "3.12.5"
  }
 },
 "nbformat": 4,
 "nbformat_minor": 4
}
