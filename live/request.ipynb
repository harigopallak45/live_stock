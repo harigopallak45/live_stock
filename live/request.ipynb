{
 "cells": [
  {
   "cell_type": "code",
   "execution_count": 1,
   "metadata": {},
   "outputs": [],
   "source": [
    "import requests\n",
    "import pandas as pd\n",
    "import json\n",
    "import matplotlib.pyplot as plt "
   ]
  },
  {
   "cell_type": "markdown",
   "metadata": {},
   "source": [
    "## Let say\n",
    "\n",
    "Let say, TWTR.csv is my realtime data (follow [realtime-evolution-strategy.ipynb](realtime-evolution-strategy.ipynb)), remember, we trained using `Close`, and `Volume` data.\n",
    "\n",
    "So every request means new daily data.\n",
    "\n",
    "You can improve the code to bind historical data with your own database or any websocket streaming data. Imagination is your limit now."
   ]
  },
  {
   "cell_type": "code",
   "execution_count": 2,
   "metadata": {},
   "outputs": [
    {
     "data": {
      "text/html": [
       "<div>\n",
       "<style scoped>\n",
       "    .dataframe tbody tr th:only-of-type {\n",
       "        vertical-align: middle;\n",
       "    }\n",
       "\n",
       "    .dataframe tbody tr th {\n",
       "        vertical-align: top;\n",
       "    }\n",
       "\n",
       "    .dataframe thead th {\n",
       "        text-align: right;\n",
       "    }\n",
       "</style>\n",
       "<table border=\"1\" class=\"dataframe\">\n",
       "  <thead>\n",
       "    <tr style=\"text-align: right;\">\n",
       "      <th></th>\n",
       "      <th>Date</th>\n",
       "      <th>Open</th>\n",
       "      <th>High</th>\n",
       "      <th>Low</th>\n",
       "      <th>Close</th>\n",
       "      <th>Volume</th>\n",
       "    </tr>\n",
       "  </thead>\n",
       "  <tbody>\n",
       "    <tr>\n",
       "      <th>0</th>\n",
       "      <td>4/26/2024</td>\n",
       "      <td>175.99</td>\n",
       "      <td>176.42</td>\n",
       "      <td>171.40</td>\n",
       "      <td>173.69</td>\n",
       "      <td>56,500,793</td>\n",
       "    </tr>\n",
       "    <tr>\n",
       "      <th>1</th>\n",
       "      <td>4/25/2024</td>\n",
       "      <td>153.36</td>\n",
       "      <td>158.28</td>\n",
       "      <td>152.77</td>\n",
       "      <td>157.95</td>\n",
       "      <td>36,197,793</td>\n",
       "    </tr>\n",
       "    <tr>\n",
       "      <th>2</th>\n",
       "      <td>4/24/2024</td>\n",
       "      <td>159.09</td>\n",
       "      <td>161.39</td>\n",
       "      <td>158.82</td>\n",
       "      <td>161.10</td>\n",
       "      <td>19,485,689</td>\n",
       "    </tr>\n",
       "    <tr>\n",
       "      <th>3</th>\n",
       "      <td>4/23/2024</td>\n",
       "      <td>158.59</td>\n",
       "      <td>160.48</td>\n",
       "      <td>157.97</td>\n",
       "      <td>159.92</td>\n",
       "      <td>16,115,410</td>\n",
       "    </tr>\n",
       "    <tr>\n",
       "      <th>4</th>\n",
       "      <td>4/22/2024</td>\n",
       "      <td>156.01</td>\n",
       "      <td>159.19</td>\n",
       "      <td>155.66</td>\n",
       "      <td>157.95</td>\n",
       "      <td>17,243,869</td>\n",
       "    </tr>\n",
       "  </tbody>\n",
       "</table>\n",
       "</div>"
      ],
      "text/plain": [
       "        Date    Open    High     Low   Close      Volume\n",
       "0  4/26/2024  175.99  176.42  171.40  173.69  56,500,793\n",
       "1  4/25/2024  153.36  158.28  152.77  157.95  36,197,793\n",
       "2  4/24/2024  159.09  161.39  158.82  161.10  19,485,689\n",
       "3  4/23/2024  158.59  160.48  157.97  159.92  16,115,410\n",
       "4  4/22/2024  156.01  159.19  155.66  157.95  17,243,869"
      ]
     },
     "execution_count": 2,
     "metadata": {},
     "output_type": "execute_result"
    }
   ],
   "source": [
    "df = pd.read_csv('GOOG.csv')\n",
    "df.head()"
   ]
  },
  {
   "cell_type": "code",
   "execution_count": 3,
   "metadata": {},
   "outputs": [],
   "source": [
    "# Load data\n",
    "df = pd.read_csv('GOOGL.csv')\n",
    "close = df['Close'].tolist()\n",
    "volume = df['Volume'].tolist()\n"
   ]
  },
  {
   "cell_type": "markdown",
   "metadata": {},
   "source": [
    "## Check balance"
   ]
  },
  {
   "cell_type": "code",
   "execution_count": 4,
   "metadata": {},
   "outputs": [
    {
     "data": {
      "text/plain": [
       "5993.54004"
      ]
     },
     "execution_count": 4,
     "metadata": {},
     "output_type": "execute_result"
    }
   ],
   "source": [
    "requests.get('http://localhost:8005/balance').json()"
   ]
  },
  {
   "cell_type": "markdown",
   "metadata": {},
   "source": [
    "This is the initial capital we have for now, you can check [agent.ipynb](https://github.com/huseinzol05/Stock-Prediction-Models/blob/master/realtime-agent/agent.ipynb) how I defined it, or you can overwrite it."
   ]
  },
  {
   "cell_type": "markdown",
   "metadata": {},
   "source": [
    "## Trading"
   ]
  },
  {
   "cell_type": "code",
   "execution_count": 5,
   "metadata": {},
   "outputs": [
    {
     "data": {
      "text/plain": [
       "'[50.220219, 44659096]'"
      ]
     },
     "execution_count": 5,
     "metadata": {},
     "output_type": "execute_result"
    }
   ],
   "source": [
    "import json\n",
    "\n",
    "data = json.dumps([close[0], volume[0]])\n",
    "data"
   ]
  },
  {
   "cell_type": "markdown",
   "metadata": {},
   "source": [
    "Remember, my last training session was only used `Close` and `Volume`, you need to edit it to accept any kind of parameters."
   ]
  },
  {
   "cell_type": "code",
   "execution_count": 6,
   "metadata": {},
   "outputs": [
    {
     "data": {
      "text/plain": [
       "{'action': 'fail',\n",
       " 'balance': 5993.54004,\n",
       " 'status': 'data not enough to trade',\n",
       " 'timestamp': '2024-08-30 12:03:53.881769'}"
      ]
     },
     "execution_count": 6,
     "metadata": {},
     "output_type": "execute_result"
    }
   ],
   "source": [
    "requests.get('http://localhost:8005/trade?data='+data).json()"
   ]
  },
  {
   "cell_type": "markdown",
   "metadata": {},
   "source": [
    "Reason why you got 'data not enough to trade', because, the agent waiting another data to complete the queue, atleast same as `window_size` size.\n",
    "\n",
    "Last time I defined `window_size` is 20, means, it only look back 20 historical data to trade."
   ]
  },
  {
   "cell_type": "markdown",
   "metadata": {},
   "source": [
    "Assume now, you have 100 times new datapoints going in, you want to trade these datapoints."
   ]
  },
  {
   "cell_type": "code",
   "execution_count": 7,
   "metadata": {},
   "outputs": [
    {
     "name": "stdout",
     "output_type": "stream",
     "text": [
      "{'action': 'fail', 'balance': 5993.54004, 'status': 'data not enough to trade', 'timestamp': '2024-08-30 12:03:55.954134'}\n",
      "{'action': 'fail', 'balance': 5993.54004, 'status': 'data not enough to trade', 'timestamp': '2024-08-30 12:03:58.003482'}\n",
      "{'action': 'fail', 'balance': 5993.54004, 'status': 'data not enough to trade', 'timestamp': '2024-08-30 12:04:00.051591'}\n",
      "{'action': 'fail', 'balance': 5993.54004, 'status': 'data not enough to trade', 'timestamp': '2024-08-30 12:04:02.099840'}\n",
      "{'action': 'fail', 'balance': 5993.54004, 'status': 'data not enough to trade', 'timestamp': '2024-08-30 12:04:04.150485'}\n",
      "{'action': 'fail', 'balance': 5993.54004, 'status': 'data not enough to trade', 'timestamp': '2024-08-30 12:04:06.189817'}\n",
      "{'action': 'fail', 'balance': 5993.54004, 'status': 'data not enough to trade', 'timestamp': '2024-08-30 12:04:08.236489'}\n",
      "{'action': 'fail', 'balance': 5993.54004, 'status': 'data not enough to trade', 'timestamp': '2024-08-30 12:04:10.287170'}\n",
      "{'action': 'fail', 'balance': 5993.54004, 'status': 'data not enough to trade', 'timestamp': '2024-08-30 12:04:12.334158'}\n",
      "{'action': 'fail', 'balance': 5993.54004, 'status': 'data not enough to trade', 'timestamp': '2024-08-30 12:04:14.382242'}\n",
      "{'action': 'fail', 'balance': 5993.54004, 'status': 'data not enough to trade', 'timestamp': '2024-08-30 12:04:16.429192'}\n",
      "{'action': 'fail', 'balance': 5993.54004, 'status': 'data not enough to trade', 'timestamp': '2024-08-30 12:04:18.466981'}\n",
      "{'action': 'fail', 'balance': 5993.54004, 'status': 'data not enough to trade', 'timestamp': '2024-08-30 12:04:20.521679'}\n",
      "{'action': 'fail', 'balance': 5993.54004, 'status': 'data not enough to trade', 'timestamp': '2024-08-30 12:04:22.569269'}\n",
      "{'action': 'fail', 'balance': 5993.54004, 'status': 'data not enough to trade', 'timestamp': '2024-08-30 12:04:24.622486'}\n",
      "{'action': 'fail', 'balance': 5993.54004, 'status': 'data not enough to trade', 'timestamp': '2024-08-30 12:04:26.673460'}\n",
      "{'action': 'fail', 'balance': 5993.54004, 'status': 'data not enough to trade', 'timestamp': '2024-08-30 12:04:28.711146'}\n",
      "{'action': 'fail', 'balance': 5993.54004, 'status': 'data not enough to trade', 'timestamp': '2024-08-30 12:04:30.756563'}\n",
      "{'action': 'nothing', 'balance': 5993.54004, 'status': 'do nothing', 'timestamp': '2024-08-30 12:04:32.807244'}\n",
      "{'action': 'nothing', 'balance': 5993.54004, 'status': 'do nothing', 'timestamp': '2024-08-30 12:04:34.855186'}\n",
      "{'action': 'nothing', 'balance': 5993.54004, 'status': 'do nothing', 'timestamp': '2024-08-30 12:04:36.904948'}\n",
      "{'action': 'nothing', 'balance': 5993.54004, 'status': 'do nothing', 'timestamp': '2024-08-30 12:04:38.956165'}\n",
      "{'action': 'nothing', 'balance': 5993.54004, 'status': 'do nothing', 'timestamp': '2024-08-30 12:04:41.005623'}\n",
      "{'action': 'nothing', 'balance': 5993.54004, 'status': 'do nothing', 'timestamp': '2024-08-30 12:04:43.039751'}\n",
      "{'action': 'nothing', 'balance': 5993.54004, 'status': 'do nothing', 'timestamp': '2024-08-30 12:04:45.078899'}\n",
      "{'action': 'nothing', 'balance': 5993.54004, 'status': 'do nothing', 'timestamp': '2024-08-30 12:04:47.119687'}\n",
      "{'action': 'nothing', 'balance': 5993.54004, 'status': 'do nothing', 'timestamp': '2024-08-30 12:04:49.172878'}\n",
      "{'action': 'nothing', 'balance': 5993.54004, 'status': 'do nothing', 'timestamp': '2024-08-30 12:04:51.222530'}\n",
      "{'action': 'nothing', 'balance': 5993.54004, 'status': 'do nothing', 'timestamp': '2024-08-30 12:04:53.265180'}\n",
      "{'action': 'nothing', 'balance': 5993.54004, 'status': 'do nothing', 'timestamp': '2024-08-30 12:04:55.316831'}\n",
      "{'action': 'nothing', 'balance': 5993.54004, 'status': 'do nothing', 'timestamp': '2024-08-30 12:04:57.360057'}\n",
      "{'action': 'nothing', 'balance': 5993.54004, 'status': 'do nothing', 'timestamp': '2024-08-30 12:04:59.402823'}\n",
      "{'action': 'nothing', 'balance': 5993.54004, 'status': 'do nothing', 'timestamp': '2024-08-30 12:05:01.438409'}\n",
      "{'action': 'buy', 'balance': 5924.931428, 'status': 'buy 1 unit, cost 68.608612', 'timestamp': '2024-08-30 12:05:03.477565'}\n",
      "{'action': 'buy', 'balance': 5855.436936, 'status': 'buy 1 unit, cost 69.494492', 'timestamp': '2024-08-30 12:05:05.518535'}\n",
      "{'action': 'nothing', 'balance': 5855.436936, 'status': 'do nothing', 'timestamp': '2024-08-30 12:05:07.557939'}\n",
      "{'action': 'nothing', 'balance': 5855.436936, 'status': 'do nothing', 'timestamp': '2024-08-30 12:05:09.599929'}\n",
      "{'action': 'nothing', 'balance': 5855.436936, 'status': 'do nothing', 'timestamp': '2024-08-30 12:05:11.654741'}\n",
      "{'action': 'sell', 'balance': 5925.957459, 'gain': 1.9119109999999608, 'investment': 2.7866924344715787, 'status': 'sell 1 unit, price 70.520523', 'timestamp': '2024-08-30 12:05:13.699839'}\n",
      "{'action': 'nothing', 'balance': 5925.957459, 'status': 'do nothing', 'timestamp': '2024-08-30 12:05:15.750927'}\n",
      "{'action': 'sell', 'balance': 5998.084588000001, 'gain': 2.632637000000045, 'investment': 3.788267133458645, 'status': 'sell 1 unit, price 72.127129', 'timestamp': '2024-08-30 12:05:17.801585'}\n",
      "{'action': 'buy', 'balance': 5923.429933, 'status': 'buy 1 unit, cost 74.654655', 'timestamp': '2024-08-30 12:05:19.857355'}\n",
      "{'action': 'nothing', 'balance': 5923.429933, 'status': 'do nothing', 'timestamp': '2024-08-30 12:05:21.904109'}\n",
      "{'action': 'buy', 'balance': 5853.1146180000005, 'status': 'buy 1 unit, cost 70.315315', 'timestamp': '2024-08-30 12:05:23.953388'}\n",
      "{'action': 'nothing', 'balance': 5853.1146180000005, 'status': 'do nothing', 'timestamp': '2024-08-30 12:05:26.000433'}\n",
      "{'action': 'nothing', 'balance': 5853.1146180000005, 'status': 'do nothing', 'timestamp': '2024-08-30 12:05:28.053056'}\n",
      "{'action': 'nothing', 'balance': 5853.1146180000005, 'status': 'do nothing', 'timestamp': '2024-08-30 12:05:30.104294'}\n",
      "{'action': 'nothing', 'balance': 5853.1146180000005, 'status': 'do nothing', 'timestamp': '2024-08-30 12:05:32.136442'}\n",
      "{'action': 'nothing', 'balance': 5853.1146180000005, 'status': 'do nothing', 'timestamp': '2024-08-30 12:05:34.192523'}\n",
      "{'action': 'nothing', 'balance': 5853.1146180000005, 'status': 'do nothing', 'timestamp': '2024-08-30 12:05:36.236889'}\n",
      "{'action': 'nothing', 'balance': 5853.1146180000005, 'status': 'do nothing', 'timestamp': '2024-08-30 12:05:38.282995'}\n",
      "{'action': 'nothing', 'balance': 5853.1146180000005, 'status': 'do nothing', 'timestamp': '2024-08-30 12:05:40.335051'}\n",
      "{'action': 'nothing', 'balance': 5853.1146180000005, 'status': 'do nothing', 'timestamp': '2024-08-30 12:05:42.382453'}\n",
      "{'action': 'nothing', 'balance': 5853.1146180000005, 'status': 'do nothing', 'timestamp': '2024-08-30 12:05:44.430962'}\n",
      "{'action': 'nothing', 'balance': 5853.1146180000005, 'status': 'do nothing', 'timestamp': '2024-08-30 12:05:46.478211'}\n",
      "{'action': 'sell', 'balance': 5937.874376000001, 'gain': 10.105103000000042, 'investment': 13.535797600297059, 'status': 'sell 1 unit, price 84.759758', 'timestamp': '2024-08-30 12:05:48.510045'}\n",
      "{'action': 'nothing', 'balance': 5937.874376000001, 'status': 'do nothing', 'timestamp': '2024-08-30 12:05:50.561404'}\n",
      "{'action': 'buy', 'balance': 5853.439943, 'status': 'buy 1 unit, cost 84.434433', 'timestamp': '2024-08-30 12:05:52.607403'}\n",
      "{'action': 'nothing', 'balance': 5853.439943, 'status': 'do nothing', 'timestamp': '2024-08-30 12:05:54.658321'}\n",
      "{'action': 'nothing', 'balance': 5853.439943, 'status': 'do nothing', 'timestamp': '2024-08-30 12:05:56.706404'}\n",
      "{'action': 'nothing', 'balance': 5853.439943, 'status': 'do nothing', 'timestamp': '2024-08-30 12:05:58.751299'}\n",
      "{'action': 'nothing', 'balance': 5853.439943, 'status': 'do nothing', 'timestamp': '2024-08-30 12:06:00.802513'}\n",
      "{'action': 'nothing', 'balance': 5853.439943, 'status': 'do nothing', 'timestamp': '2024-08-30 12:06:02.852810'}\n",
      "{'action': 'sell', 'balance': 5939.776277, 'gain': 16.02101900000008, 'investment': 22.7845370528456, 'status': 'sell 1 unit, price 86.336334', 'timestamp': '2024-08-30 12:06:04.900547'}\n",
      "{'action': 'sell', 'balance': 6023.630128, 'gain': -0.5805820000001773, 'investment': -0.6876128368152553, 'status': 'sell 1 unit, price 83.853851', 'timestamp': '2024-08-30 12:06:06.946359'}\n",
      "{'action': 'nothing', 'balance': 6023.630128, 'status': 'do nothing', 'timestamp': '2024-08-30 12:06:09.005165'}\n",
      "{'action': 'nothing', 'balance': 6023.630128, 'status': 'do nothing', 'timestamp': '2024-08-30 12:06:11.049360'}\n",
      "{'action': 'nothing', 'balance': 6023.630128, 'status': 'do nothing', 'timestamp': '2024-08-30 12:06:13.097998'}\n",
      "{'action': 'nothing', 'balance': 6023.630128, 'status': 'do nothing', 'timestamp': '2024-08-30 12:06:15.148346'}\n",
      "{'action': 'nothing', 'balance': 6023.630128, 'status': 'do nothing', 'timestamp': '2024-08-30 12:06:17.199998'}\n",
      "{'action': 'buy', 'balance': 5933.014512, 'status': 'buy 1 unit, cost 90.615616', 'timestamp': '2024-08-30 12:06:19.247405'}\n",
      "{'action': 'buy', 'balance': 5841.933434, 'status': 'buy 1 unit, cost 91.081078', 'timestamp': '2024-08-30 12:06:21.281735'}\n",
      "{'action': 'sell', 'balance': 5932.003502, 'gain': -0.5455479999998545, 'investment': -0.6020463404451781, 'status': 'sell 1 unit, price 90.070068', 'timestamp': '2024-08-30 12:06:23.326724'}\n",
      "{'action': 'sell', 'balance': 6021.793288999999, 'gain': -1.2912909999998732, 'investment': -1.4177379411340245, 'status': 'sell 1 unit, price 89.789787', 'timestamp': '2024-08-30 12:06:25.376187'}\n",
      "{'action': 'nothing', 'balance': 6021.793288999999, 'status': 'do nothing', 'timestamp': '2024-08-30 12:06:27.423024'}\n",
      "{'action': 'buy', 'balance': 5933.560057999999, 'status': 'buy 1 unit, cost 88.233231', 'timestamp': '2024-08-30 12:06:29.476553'}\n",
      "{'action': 'sell', 'balance': 6019.3608619999995, 'gain': -2.4324269999998194, 'investment': -2.7568150598495307, 'status': 'sell 1 unit, price 85.800804', 'timestamp': '2024-08-30 12:06:31.524315'}\n",
      "{'action': 'nothing', 'balance': 6019.3608619999995, 'status': 'do nothing', 'timestamp': '2024-08-30 12:06:33.575985'}\n",
      "{'action': 'nothing', 'balance': 6019.3608619999995, 'status': 'do nothing', 'timestamp': '2024-08-30 12:06:35.623089'}\n",
      "{'action': 'nothing', 'balance': 6019.3608619999995, 'status': 'do nothing', 'timestamp': '2024-08-30 12:06:37.673650'}\n",
      "{'action': 'nothing', 'balance': 6019.3608619999995, 'status': 'do nothing', 'timestamp': '2024-08-30 12:06:39.722579'}\n",
      "{'action': 'nothing', 'balance': 6019.3608619999995, 'status': 'do nothing', 'timestamp': '2024-08-30 12:06:41.774545'}\n",
      "{'action': 'nothing', 'balance': 6019.3608619999995, 'status': 'do nothing', 'timestamp': '2024-08-30 12:06:43.813642'}\n",
      "{'action': 'nothing', 'balance': 6019.3608619999995, 'status': 'do nothing', 'timestamp': '2024-08-30 12:06:45.863529'}\n",
      "{'action': 'nothing', 'balance': 6019.3608619999995, 'status': 'do nothing', 'timestamp': '2024-08-30 12:06:47.908077'}\n",
      "{'action': 'nothing', 'balance': 6019.3608619999995, 'status': 'do nothing', 'timestamp': '2024-08-30 12:06:49.955917'}\n",
      "{'action': 'nothing', 'balance': 6019.3608619999995, 'status': 'do nothing', 'timestamp': '2024-08-30 12:06:52.006620'}\n",
      "{'action': 'nothing', 'balance': 6019.3608619999995, 'status': 'do nothing', 'timestamp': '2024-08-30 12:06:54.037676'}\n",
      "{'action': 'nothing', 'balance': 6019.3608619999995, 'status': 'do nothing', 'timestamp': '2024-08-30 12:06:56.088792'}\n",
      "{'action': 'nothing', 'balance': 6019.3608619999995, 'status': 'do nothing', 'timestamp': '2024-08-30 12:06:58.141978'}\n",
      "{'action': 'buy', 'balance': 5922.884383, 'status': 'buy 1 unit, cost 96.476479', 'timestamp': '2024-08-30 12:07:00.185295'}\n",
      "{'action': 'sell', 'balance': 6019.4309299999995, 'gain': 0.07006800000000624, 'investment': 0.07262702860456406, 'status': 'sell 1 unit, price 96.546547', 'timestamp': '2024-08-30 12:07:02.224154'}\n",
      "{'action': 'nothing', 'balance': 6019.4309299999995, 'status': 'do nothing', 'timestamp': '2024-08-30 12:07:04.260008'}\n",
      "{'action': 'buy', 'balance': 5922.939436999999, 'status': 'buy 1 unit, cost 96.491493', 'timestamp': '2024-08-30 12:07:06.315348'}\n",
      "{'action': 'sell', 'balance': 6024.395895999999, 'gain': 4.96496599999999, 'investment': 5.145496090520632, 'status': 'sell 1 unit, price 101.456459', 'timestamp': '2024-08-30 12:09:42.911998'}\n",
      "{'action': 'nothing', 'balance': 6024.395895999999, 'status': 'do nothing', 'timestamp': '2024-08-30 12:09:44.967471'}\n",
      "{'action': 'nothing', 'balance': 6024.395895999999, 'status': 'do nothing', 'timestamp': '2024-08-30 12:09:47.024588'}\n"
     ]
    }
   ],
   "source": [
    "for i in range(200):\n",
    "    data = json.dumps([close[i], volume[i]])\n",
    "    requested = requests.get('http://localhost:8005/trade?data=' + data).json()\n",
    "    print(requested)"
   ]
  },
  {
   "cell_type": "code",
   "execution_count": null,
   "metadata": {},
   "outputs": [
    {
     "data": {
      "image/png": "[encoded data removed]",
      "text/plain": [
       "<Figure size 640x480 with 1 Axes>"
      ]
     },
     "metadata": {},
     "output_type": "display_data"
    }
   ],
   "source": [
    "# Initialize plot\n",
    "plt.ion()\n",
    "fig, ax = plt.subplots()\n",
    "ax.plot(close, label='Close Price')\n",
    "ax.legend()\n",
    "\n",
    "# Loop through data and make trading decisions\n",
    "for i in range(len(close)):\n",
    "    # Prepare data for trading\n",
    "    data = json.dumps([close[i], volume[i]])\n",
    "    \n",
    "    # Make trading decision\n",
    "    requested = requests.get('http://localhost:8005/trade?data=' + data).json()\n",
    "    \n",
    "    # Update plot\n",
    "    ax.scatter(i, close[i], color='r' if requested['action'] == 'buy' else 'g')  # Plot buy/sell points\n",
    "    plt.pause(0.01)\n",
    "\n",
    "plt.ioff()\n",
    "plt.show()"
   ]
  },
  {
   "cell_type": "code",
   "execution_count": null,
   "metadata": {},
   "outputs": [],
   "source": []
  }
 ],
 "metadata": {
  "kernelspec": {
   "display_name": "Python 3 (ipykernel)",
   "language": "python",
   "name": "python3"
  },
  "language_info": {
   "codemirror_mode": {
    "name": "ipython",
    "version": 3
   },
   "file_extension": ".py",
   "mimetype": "text/x-python",
   "name": "python",
   "nbconvert_exporter": "python",
   "pygments_lexer": "ipython3",
   "version": "3.12.5"
  }
 },
 "nbformat": 4,
 "nbformat_minor": 4
}
